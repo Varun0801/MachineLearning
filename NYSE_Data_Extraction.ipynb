{
  "nbformat": 4,
  "nbformat_minor": 0,
  "metadata": {
    "colab": {
      "name": "NYSE Data Extraction.ipynb",
      "provenance": [],
      "authorship_tag": "ABX9TyMFUeMZafhkhNANQ+E1sg12",
      "include_colab_link": true
    },
    "kernelspec": {
      "name": "python3",
      "display_name": "Python 3"
    }
  },
  "cells": [
    {
      "cell_type": "markdown",
      "metadata": {
        "id": "view-in-github",
        "colab_type": "text"
      },
      "source": [
        "<a href=\"https://colab.research.google.com/github/Varun0801/MachineLearning/blob/master/NYSE_Data_Extraction.ipynb\" target=\"_parent\"><img src=\"https://colab.research.google.com/assets/colab-badge.svg\" alt=\"Open In Colab\"/></a>"
      ]
    },
    {
      "cell_type": "code",
      "metadata": {
        "id": "nYCaLB10nLqn",
        "colab_type": "code",
        "colab": {
          "base_uri": "https://localhost:8080/",
          "height": 70
        },
        "outputId": "8719e689-7514-4618-d286-eb650c10e5c8"
      },
      "source": [
        "import pandas as pd\n",
        "from pandas_datareader import data, wb\n",
        "import datetime"
      ],
      "execution_count": 1,
      "outputs": [
        {
          "output_type": "stream",
          "text": [
            "/usr/local/lib/python3.6/dist-packages/pandas_datareader/compat/__init__.py:7: FutureWarning: pandas.util.testing is deprecated. Use the functions in the public API at pandas.testing instead.\n",
            "  from pandas.util.testing import assert_frame_equal\n"
          ],
          "name": "stderr"
        }
      ]
    },
    {
      "cell_type": "code",
      "metadata": {
        "id": "F3HdY30Zq0xT",
        "colab_type": "code",
        "colab": {}
      },
      "source": [
        "start = pd.to_datetime('2020-09-01')\n",
        "end = pd.to_datetime('today')"
      ],
      "execution_count": 2,
      "outputs": []
    },
    {
      "cell_type": "code",
      "metadata": {
        "id": "IvaXKKy9rcCX",
        "colab_type": "code",
        "colab": {
          "base_uri": "https://localhost:8080/",
          "height": 550
        },
        "outputId": "5859575a-08d5-4c2f-bdf7-3cd007891bdb"
      },
      "source": [
        "data_df = data.DataReader('TSLA','yahoo',start,end)\n",
        "data_df"
      ],
      "execution_count": 3,
      "outputs": [
        {
          "output_type": "execute_result",
          "data": {
            "text/html": [
              "<div>\n",
              "<style scoped>\n",
              "    .dataframe tbody tr th:only-of-type {\n",
              "        vertical-align: middle;\n",
              "    }\n",
              "\n",
              "    .dataframe tbody tr th {\n",
              "        vertical-align: top;\n",
              "    }\n",
              "\n",
              "    .dataframe thead th {\n",
              "        text-align: right;\n",
              "    }\n",
              "</style>\n",
              "<table border=\"1\" class=\"dataframe\">\n",
              "  <thead>\n",
              "    <tr style=\"text-align: right;\">\n",
              "      <th></th>\n",
              "      <th>High</th>\n",
              "      <th>Low</th>\n",
              "      <th>Open</th>\n",
              "      <th>Close</th>\n",
              "      <th>Volume</th>\n",
              "      <th>Adj Close</th>\n",
              "    </tr>\n",
              "    <tr>\n",
              "      <th>Date</th>\n",
              "      <th></th>\n",
              "      <th></th>\n",
              "      <th></th>\n",
              "      <th></th>\n",
              "      <th></th>\n",
              "      <th></th>\n",
              "    </tr>\n",
              "  </thead>\n",
              "  <tbody>\n",
              "    <tr>\n",
              "      <th>2020-09-01</th>\n",
              "      <td>502.489990</td>\n",
              "      <td>470.510010</td>\n",
              "      <td>502.140015</td>\n",
              "      <td>475.049988</td>\n",
              "      <td>90119400</td>\n",
              "      <td>475.049988</td>\n",
              "    </tr>\n",
              "    <tr>\n",
              "      <th>2020-09-02</th>\n",
              "      <td>479.040009</td>\n",
              "      <td>405.119995</td>\n",
              "      <td>478.989990</td>\n",
              "      <td>447.369995</td>\n",
              "      <td>96176100</td>\n",
              "      <td>447.369995</td>\n",
              "    </tr>\n",
              "    <tr>\n",
              "      <th>2020-09-03</th>\n",
              "      <td>431.799988</td>\n",
              "      <td>402.000000</td>\n",
              "      <td>407.230011</td>\n",
              "      <td>407.000000</td>\n",
              "      <td>87596100</td>\n",
              "      <td>407.000000</td>\n",
              "    </tr>\n",
              "    <tr>\n",
              "      <th>2020-09-04</th>\n",
              "      <td>428.000000</td>\n",
              "      <td>372.019989</td>\n",
              "      <td>402.809998</td>\n",
              "      <td>418.320007</td>\n",
              "      <td>110321900</td>\n",
              "      <td>418.320007</td>\n",
              "    </tr>\n",
              "    <tr>\n",
              "      <th>2020-09-08</th>\n",
              "      <td>368.739990</td>\n",
              "      <td>329.880005</td>\n",
              "      <td>356.000000</td>\n",
              "      <td>330.209991</td>\n",
              "      <td>115465700</td>\n",
              "      <td>330.209991</td>\n",
              "    </tr>\n",
              "    <tr>\n",
              "      <th>2020-09-09</th>\n",
              "      <td>369.000000</td>\n",
              "      <td>341.510010</td>\n",
              "      <td>356.600006</td>\n",
              "      <td>366.279999</td>\n",
              "      <td>79465800</td>\n",
              "      <td>366.279999</td>\n",
              "    </tr>\n",
              "    <tr>\n",
              "      <th>2020-09-10</th>\n",
              "      <td>398.989990</td>\n",
              "      <td>360.559998</td>\n",
              "      <td>386.209991</td>\n",
              "      <td>371.339996</td>\n",
              "      <td>84930600</td>\n",
              "      <td>371.339996</td>\n",
              "    </tr>\n",
              "    <tr>\n",
              "      <th>2020-09-11</th>\n",
              "      <td>382.500000</td>\n",
              "      <td>360.500000</td>\n",
              "      <td>381.940002</td>\n",
              "      <td>372.720001</td>\n",
              "      <td>60717500</td>\n",
              "      <td>372.720001</td>\n",
              "    </tr>\n",
              "    <tr>\n",
              "      <th>2020-09-14</th>\n",
              "      <td>420.000000</td>\n",
              "      <td>373.299988</td>\n",
              "      <td>380.950012</td>\n",
              "      <td>419.619995</td>\n",
              "      <td>83020600</td>\n",
              "      <td>419.619995</td>\n",
              "    </tr>\n",
              "    <tr>\n",
              "      <th>2020-09-15</th>\n",
              "      <td>461.940002</td>\n",
              "      <td>430.700012</td>\n",
              "      <td>436.559998</td>\n",
              "      <td>449.760010</td>\n",
              "      <td>97298200</td>\n",
              "      <td>449.760010</td>\n",
              "    </tr>\n",
              "    <tr>\n",
              "      <th>2020-09-16</th>\n",
              "      <td>457.790009</td>\n",
              "      <td>435.309998</td>\n",
              "      <td>439.869995</td>\n",
              "      <td>441.760010</td>\n",
              "      <td>72279300</td>\n",
              "      <td>441.760010</td>\n",
              "    </tr>\n",
              "    <tr>\n",
              "      <th>2020-09-17</th>\n",
              "      <td>437.790009</td>\n",
              "      <td>408.000000</td>\n",
              "      <td>415.600006</td>\n",
              "      <td>423.429993</td>\n",
              "      <td>76779200</td>\n",
              "      <td>423.429993</td>\n",
              "    </tr>\n",
              "    <tr>\n",
              "      <th>2020-09-18</th>\n",
              "      <td>451.000000</td>\n",
              "      <td>428.799988</td>\n",
              "      <td>447.940002</td>\n",
              "      <td>442.149994</td>\n",
              "      <td>86406800</td>\n",
              "      <td>442.149994</td>\n",
              "    </tr>\n",
              "    <tr>\n",
              "      <th>2020-09-21</th>\n",
              "      <td>455.679993</td>\n",
              "      <td>407.070007</td>\n",
              "      <td>453.130005</td>\n",
              "      <td>449.390015</td>\n",
              "      <td>109476800</td>\n",
              "      <td>449.390015</td>\n",
              "    </tr>\n",
              "    <tr>\n",
              "      <th>2020-09-22</th>\n",
              "      <td>437.760010</td>\n",
              "      <td>417.600006</td>\n",
              "      <td>429.600006</td>\n",
              "      <td>424.230011</td>\n",
              "      <td>79580800</td>\n",
              "      <td>424.230011</td>\n",
              "    </tr>\n",
              "    <tr>\n",
              "      <th>2020-09-23</th>\n",
              "      <td>412.149994</td>\n",
              "      <td>375.880005</td>\n",
              "      <td>405.160004</td>\n",
              "      <td>380.359985</td>\n",
              "      <td>93873900</td>\n",
              "      <td>380.359985</td>\n",
              "    </tr>\n",
              "  </tbody>\n",
              "</table>\n",
              "</div>"
            ],
            "text/plain": [
              "                  High         Low  ...     Volume   Adj Close\n",
              "Date                                ...                       \n",
              "2020-09-01  502.489990  470.510010  ...   90119400  475.049988\n",
              "2020-09-02  479.040009  405.119995  ...   96176100  447.369995\n",
              "2020-09-03  431.799988  402.000000  ...   87596100  407.000000\n",
              "2020-09-04  428.000000  372.019989  ...  110321900  418.320007\n",
              "2020-09-08  368.739990  329.880005  ...  115465700  330.209991\n",
              "2020-09-09  369.000000  341.510010  ...   79465800  366.279999\n",
              "2020-09-10  398.989990  360.559998  ...   84930600  371.339996\n",
              "2020-09-11  382.500000  360.500000  ...   60717500  372.720001\n",
              "2020-09-14  420.000000  373.299988  ...   83020600  419.619995\n",
              "2020-09-15  461.940002  430.700012  ...   97298200  449.760010\n",
              "2020-09-16  457.790009  435.309998  ...   72279300  441.760010\n",
              "2020-09-17  437.790009  408.000000  ...   76779200  423.429993\n",
              "2020-09-18  451.000000  428.799988  ...   86406800  442.149994\n",
              "2020-09-21  455.679993  407.070007  ...  109476800  449.390015\n",
              "2020-09-22  437.760010  417.600006  ...   79580800  424.230011\n",
              "2020-09-23  412.149994  375.880005  ...   93873900  380.359985\n",
              "\n",
              "[16 rows x 6 columns]"
            ]
          },
          "metadata": {
            "tags": []
          },
          "execution_count": 3
        }
      ]
    },
    {
      "cell_type": "code",
      "metadata": {
        "id": "DIVoLd88rnVU",
        "colab_type": "code",
        "colab": {}
      },
      "source": [
        ""
      ],
      "execution_count": null,
      "outputs": []
    }
  ]
}