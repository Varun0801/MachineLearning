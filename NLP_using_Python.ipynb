{
  "nbformat": 4,
  "nbformat_minor": 0,
  "metadata": {
    "colab": {
      "name": "NLP using Python.ipynb",
      "provenance": [],
      "authorship_tag": "ABX9TyN9iGingks12dF3H82LVwNf",
      "include_colab_link": true
    },
    "kernelspec": {
      "name": "python3",
      "display_name": "Python 3"
    }
  },
  "cells": [
    {
      "cell_type": "markdown",
      "metadata": {
        "id": "view-in-github",
        "colab_type": "text"
      },
      "source": [
        "<a href=\"https://colab.research.google.com/github/Varun0801/MachineLearning/blob/master/NLP_using_Python.ipynb\" target=\"_parent\"><img src=\"https://colab.research.google.com/assets/colab-badge.svg\" alt=\"Open In Colab\"/></a>"
      ]
    },
    {
      "cell_type": "code",
      "metadata": {
        "id": "c0YZfceaUe4V",
        "colab_type": "code",
        "colab": {}
      },
      "source": [
        "a = \"Hello,good evening everyone\"\n"
      ],
      "execution_count": 0,
      "outputs": []
    },
    {
      "cell_type": "code",
      "metadata": {
        "id": "quQRZREiVyXc",
        "colab_type": "code",
        "colab": {
          "base_uri": "https://localhost:8080/",
          "height": 34
        },
        "outputId": "3da29b23-3255-46c0-8f6e-94c2dbd95772"
      },
      "source": [
        "a.upper()"
      ],
      "execution_count": 2,
      "outputs": [
        {
          "output_type": "execute_result",
          "data": {
            "text/plain": [
              "'HELLO,GOOD EVENING EVERYONE'"
            ]
          },
          "metadata": {
            "tags": []
          },
          "execution_count": 2
        }
      ]
    },
    {
      "cell_type": "code",
      "metadata": {
        "id": "rjYCyw6CV0_j",
        "colab_type": "code",
        "colab": {
          "base_uri": "https://localhost:8080/",
          "height": 34
        },
        "outputId": "ef5f6580-26e2-492e-b814-d0925b6a551a"
      },
      "source": [
        "len(a)"
      ],
      "execution_count": 3,
      "outputs": [
        {
          "output_type": "execute_result",
          "data": {
            "text/plain": [
              "27"
            ]
          },
          "metadata": {
            "tags": []
          },
          "execution_count": 3
        }
      ]
    },
    {
      "cell_type": "code",
      "metadata": {
        "id": "a5fd8L_PV-uS",
        "colab_type": "code",
        "colab": {
          "base_uri": "https://localhost:8080/",
          "height": 34
        },
        "outputId": "da8da75c-b286-40eb-ce53-deb1612ba2f6"
      },
      "source": [
        "a.swapcase()"
      ],
      "execution_count": 5,
      "outputs": [
        {
          "output_type": "execute_result",
          "data": {
            "text/plain": [
              "'hELLO,GOOD EVENING EVERYONE'"
            ]
          },
          "metadata": {
            "tags": []
          },
          "execution_count": 5
        }
      ]
    },
    {
      "cell_type": "code",
      "metadata": {
        "id": "vrIpJymzWHsk",
        "colab_type": "code",
        "colab": {
          "base_uri": "https://localhost:8080/",
          "height": 34
        },
        "outputId": "e6692a85-b128-49b1-9fa1-2b2547b65d41"
      },
      "source": [
        "a.index(\"Hello\")"
      ],
      "execution_count": 10,
      "outputs": [
        {
          "output_type": "execute_result",
          "data": {
            "text/plain": [
              "0"
            ]
          },
          "metadata": {
            "tags": []
          },
          "execution_count": 10
        }
      ]
    },
    {
      "cell_type": "code",
      "metadata": {
        "id": "tYxgOAAwWUbD",
        "colab_type": "code",
        "colab": {}
      },
      "source": [
        "import re\n",
        "s = \"cat mat bat rat\"\n",
        "d = re.compile(r'm\\w\\w') #\\w can a-z A-Z 0-9"
      ],
      "execution_count": 0,
      "outputs": []
    },
    {
      "cell_type": "code",
      "metadata": {
        "id": "LnNKabwZYT7n",
        "colab_type": "code",
        "colab": {
          "base_uri": "https://localhost:8080/",
          "height": 34
        },
        "outputId": "8970bd29-6b30-435a-ab3e-0e2385698a53"
      },
      "source": [
        "result = d.search(s)\n",
        "result"
      ],
      "execution_count": 8,
      "outputs": [
        {
          "output_type": "execute_result",
          "data": {
            "text/plain": [
              "<_sre.SRE_Match object; span=(4, 7), match='mat'>"
            ]
          },
          "metadata": {
            "tags": []
          },
          "execution_count": 8
        }
      ]
    },
    {
      "cell_type": "code",
      "metadata": {
        "id": "022J4prTYeur",
        "colab_type": "code",
        "colab": {
          "base_uri": "https://localhost:8080/",
          "height": 34
        },
        "outputId": "ea1e1b48-f59e-4c6f-acec-97c884bfc2c0"
      },
      "source": [
        "result.group()\n"
      ],
      "execution_count": 9,
      "outputs": [
        {
          "output_type": "execute_result",
          "data": {
            "text/plain": [
              "'mat'"
            ]
          },
          "metadata": {
            "tags": []
          },
          "execution_count": 9
        }
      ]
    },
    {
      "cell_type": "code",
      "metadata": {
        "id": "4vJTqRCSYozH",
        "colab_type": "code",
        "colab": {
          "base_uri": "https://localhost:8080/",
          "height": 34
        },
        "outputId": "58af8a2a-aacb-4cce-99d8-0b4308ec68bc"
      },
      "source": [
        "re.findall(r'm\\w*',s)"
      ],
      "execution_count": 11,
      "outputs": [
        {
          "output_type": "execute_result",
          "data": {
            "text/plain": [
              "['mat']"
            ]
          },
          "metadata": {
            "tags": []
          },
          "execution_count": 11
        }
      ]
    },
    {
      "cell_type": "code",
      "metadata": {
        "id": "coF7lIv0ZASv",
        "colab_type": "code",
        "colab": {
          "base_uri": "https://localhost:8080/",
          "height": 34
        },
        "outputId": "0eb8a4e4-38c8-4ce6-d51b-39186590a84d"
      },
      "source": [
        "re.findall(r'm\\w+',s)"
      ],
      "execution_count": 12,
      "outputs": [
        {
          "output_type": "execute_result",
          "data": {
            "text/plain": [
              "['mat']"
            ]
          },
          "metadata": {
            "tags": []
          },
          "execution_count": 12
        }
      ]
    },
    {
      "cell_type": "code",
      "metadata": {
        "id": "5cWGl6BUZKst",
        "colab_type": "code",
        "colab": {
          "base_uri": "https://localhost:8080/",
          "height": 34
        },
        "outputId": "ee35cff2-6f1b-43ed-ba21-ec5bb2268650"
      },
      "source": [
        "a = \"Saketh : 654124104623\"\n",
        "re.findall('\\w*',a)"
      ],
      "execution_count": 13,
      "outputs": [
        {
          "output_type": "execute_result",
          "data": {
            "text/plain": [
              "['Saketh', '', '', '', '654124104623', '']"
            ]
          },
          "metadata": {
            "tags": []
          },
          "execution_count": 13
        }
      ]
    },
    {
      "cell_type": "code",
      "metadata": {
        "id": "5k09b4VWZqsg",
        "colab_type": "code",
        "colab": {
          "base_uri": "https://localhost:8080/",
          "height": 34
        },
        "outputId": "370aab47-3844-45a4-ca29-4573bbfe5748"
      },
      "source": [
        "re.findall('\\D',a)"
      ],
      "execution_count": 14,
      "outputs": [
        {
          "output_type": "execute_result",
          "data": {
            "text/plain": [
              "['S', 'a', 'k', 'e', 't', 'h', ' ', ':', ' ']"
            ]
          },
          "metadata": {
            "tags": []
          },
          "execution_count": 14
        }
      ]
    },
    {
      "cell_type": "code",
      "metadata": {
        "id": "CulM8hZOZ4Iz",
        "colab_type": "code",
        "colab": {
          "base_uri": "https://localhost:8080/",
          "height": 34
        },
        "outputId": "fa8f67d5-04a0-4427-de04-856e509ce104"
      },
      "source": [
        "re.findall('\\D+',a)"
      ],
      "execution_count": 15,
      "outputs": [
        {
          "output_type": "execute_result",
          "data": {
            "text/plain": [
              "['Saketh : ']"
            ]
          },
          "metadata": {
            "tags": []
          },
          "execution_count": 15
        }
      ]
    },
    {
      "cell_type": "code",
      "metadata": {
        "id": "FW9fnDKWZ9Kk",
        "colab_type": "code",
        "colab": {
          "base_uri": "https://localhost:8080/",
          "height": 34
        },
        "outputId": "ee9d128b-44a0-45ad-e03a-7f24df7815e7"
      },
      "source": [
        "re.findall('\\d+',a)"
      ],
      "execution_count": 16,
      "outputs": [
        {
          "output_type": "execute_result",
          "data": {
            "text/plain": [
              "['654124104623']"
            ]
          },
          "metadata": {
            "tags": []
          },
          "execution_count": 16
        }
      ]
    },
    {
      "cell_type": "code",
      "metadata": {
        "id": "G33u7xrsaBGO",
        "colab_type": "code",
        "colab": {
          "base_uri": "https://localhost:8080/",
          "height": 34
        },
        "outputId": "5d7200b0-1674-4283-8f5f-cc3969f151b1"
      },
      "source": [
        "s = \"anil akhir arati arun ankur\"\n",
        "re.findall(r'a[n]\\w*',s)"
      ],
      "execution_count": 17,
      "outputs": [
        {
          "output_type": "execute_result",
          "data": {
            "text/plain": [
              "['anil', 'ankur']"
            ]
          },
          "metadata": {
            "tags": []
          },
          "execution_count": 17
        }
      ]
    },
    {
      "cell_type": "code",
      "metadata": {
        "id": "hdxoAnMXadcy",
        "colab_type": "code",
        "colab": {
          "base_uri": "https://localhost:8080/",
          "height": 34
        },
        "outputId": "ab8a9296-e4db-4acb-e2e2-391f11bef8bc"
      },
      "source": [
        "s = \"anil akhir arati arun ankur\"\n",
        "re.findall(r'a[nr]\\w*',s)"
      ],
      "execution_count": 18,
      "outputs": [
        {
          "output_type": "execute_result",
          "data": {
            "text/plain": [
              "['anil', 'arati', 'arun', 'ankur']"
            ]
          },
          "metadata": {
            "tags": []
          },
          "execution_count": 18
        }
      ]
    },
    {
      "cell_type": "code",
      "metadata": {
        "id": "gpq3BkQwaicX",
        "colab_type": "code",
        "colab": {}
      },
      "source": [
        "a = \"Hey you are so intelligent ?\"\n",
        "words = a.split()\n"
      ],
      "execution_count": 0,
      "outputs": []
    },
    {
      "cell_type": "code",
      "metadata": {
        "id": "xNxSSt-sa9lG",
        "colab_type": "code",
        "colab": {
          "base_uri": "https://localhost:8080/",
          "height": 34
        },
        "outputId": "a664e908-eceb-4334-df02-5b9ed6e4aac6"
      },
      "source": [
        "words"
      ],
      "execution_count": 20,
      "outputs": [
        {
          "output_type": "execute_result",
          "data": {
            "text/plain": [
              "['Hey', 'you', 'are', 'so', 'intelligent']"
            ]
          },
          "metadata": {
            "tags": []
          },
          "execution_count": 20
        }
      ]
    },
    {
      "cell_type": "code",
      "metadata": {
        "id": "tLAknD5Ya-oj",
        "colab_type": "code",
        "colab": {
          "base_uri": "https://localhost:8080/",
          "height": 34
        },
        "outputId": "0d7fde00-d7f6-4695-ced8-5afd693680d8"
      },
      "source": [
        "import nltk\n",
        "from nltk.tokenize import word_tokenize\n",
        "print(word_tokenize(a))"
      ],
      "execution_count": 27,
      "outputs": [
        {
          "output_type": "stream",
          "text": [
            "['Hey', 'you', 'are', 'so', 'intelligent', '?']\n"
          ],
          "name": "stdout"
        }
      ]
    },
    {
      "cell_type": "code",
      "metadata": {
        "id": "k9VlV9pNbm2m",
        "colab_type": "code",
        "colab": {
          "base_uri": "https://localhost:8080/",
          "height": 70
        },
        "outputId": "769d7527-da3f-4140-e636-1a6b482462f1"
      },
      "source": [
        "nltk.download('punkt')"
      ],
      "execution_count": 23,
      "outputs": [
        {
          "output_type": "stream",
          "text": [
            "[nltk_data] Downloading package punkt to /root/nltk_data...\n",
            "[nltk_data]   Unzipping tokenizers/punkt.zip.\n"
          ],
          "name": "stdout"
        },
        {
          "output_type": "execute_result",
          "data": {
            "text/plain": [
              "True"
            ]
          },
          "metadata": {
            "tags": []
          },
          "execution_count": 23
        }
      ]
    },
    {
      "cell_type": "code",
      "metadata": {
        "id": "zWXpGbpLbyWN",
        "colab_type": "code",
        "colab": {
          "base_uri": "https://localhost:8080/",
          "height": 34
        },
        "outputId": "382548fb-0273-43c4-85d4-2576b5d1874b"
      },
      "source": [
        "sentence = \"Hello everyone welcome have a good day\"\n",
        "tokens = nltk.word_tokenize(sentence)\n",
        "tokens"
      ],
      "execution_count": 28,
      "outputs": [
        {
          "output_type": "execute_result",
          "data": {
            "text/plain": [
              "['Hello', 'everyone', 'welcome', 'have', 'a', 'good', 'day']"
            ]
          },
          "metadata": {
            "tags": []
          },
          "execution_count": 28
        }
      ]
    },
    {
      "cell_type": "code",
      "metadata": {
        "id": "C5VIZs4zcw6w",
        "colab_type": "code",
        "colab": {
          "base_uri": "https://localhost:8080/",
          "height": 140
        },
        "outputId": "df978094-8f45-40c1-dc8a-31f0d5913cf7"
      },
      "source": [
        "tagged = nltk.pos_tag(tokens)\n",
        "tagged"
      ],
      "execution_count": 32,
      "outputs": [
        {
          "output_type": "execute_result",
          "data": {
            "text/plain": [
              "[('Hello', 'NNP'),\n",
              " ('everyone', 'NN'),\n",
              " ('welcome', 'NN'),\n",
              " ('have', 'VBP'),\n",
              " ('a', 'DT'),\n",
              " ('good', 'JJ'),\n",
              " ('day', 'NN')]"
            ]
          },
          "metadata": {
            "tags": []
          },
          "execution_count": 32
        }
      ]
    },
    {
      "cell_type": "code",
      "metadata": {
        "id": "4RVc6o1DdLy4",
        "colab_type": "code",
        "colab": {
          "base_uri": "https://localhost:8080/",
          "height": 87
        },
        "outputId": "f956d3e3-ea05-4fdb-8903-11046bc8ac3e"
      },
      "source": [
        "nltk.download('averaged_perceptron_tagger')"
      ],
      "execution_count": 30,
      "outputs": [
        {
          "output_type": "stream",
          "text": [
            "[nltk_data] Downloading package averaged_perceptron_tagger to\n",
            "[nltk_data]     /root/nltk_data...\n",
            "[nltk_data]   Unzipping taggers/averaged_perceptron_tagger.zip.\n"
          ],
          "name": "stdout"
        },
        {
          "output_type": "execute_result",
          "data": {
            "text/plain": [
              "True"
            ]
          },
          "metadata": {
            "tags": []
          },
          "execution_count": 30
        }
      ]
    },
    {
      "cell_type": "code",
      "metadata": {
        "id": "C8HMmIaOdQSe",
        "colab_type": "code",
        "colab": {}
      },
      "source": [
        "from nltk.tokenize import sent_tokenize\n"
      ],
      "execution_count": 0,
      "outputs": []
    },
    {
      "cell_type": "code",
      "metadata": {
        "id": "3HRqlgRud_bU",
        "colab_type": "code",
        "colab": {
          "base_uri": "https://localhost:8080/",
          "height": 72
        },
        "outputId": "b5e73fc1-e38c-4003-9a28-7138a0b6bfc5"
      },
      "source": [
        "a = \"My Company name is ABCD, as we are very passionate about bringing change in Education System. To make oor journey towards LEADINDIA\"\n",
        "d = sent_tokenize(a)\n",
        "d"
      ],
      "execution_count": 35,
      "outputs": [
        {
          "output_type": "execute_result",
          "data": {
            "text/plain": [
              "['My Company name is ABCD, as we are very passionate about bringing change in Education System.',\n",
              " 'To make oor journey towards LEADINDIA']"
            ]
          },
          "metadata": {
            "tags": []
          },
          "execution_count": 35
        }
      ]
    },
    {
      "cell_type": "code",
      "metadata": {
        "id": "uz2eryOyeh0x",
        "colab_type": "code",
        "colab": {
          "base_uri": "https://localhost:8080/",
          "height": 90
        },
        "outputId": "05959712-0368-44b2-abac-47ba4841f67e"
      },
      "source": [
        "nltk.pos_tag(d)"
      ],
      "execution_count": 36,
      "outputs": [
        {
          "output_type": "execute_result",
          "data": {
            "text/plain": [
              "[('My Company name is ABCD, as we are very passionate about bringing change in Education System.',\n",
              "  'NNP'),\n",
              " ('To make oor journey towards LEADINDIA', 'NNP')]"
            ]
          },
          "metadata": {
            "tags": []
          },
          "execution_count": 36
        }
      ]
    },
    {
      "cell_type": "code",
      "metadata": {
        "id": "GL2TZgP5esOk",
        "colab_type": "code",
        "colab": {}
      },
      "source": [
        "from nltk.stem.wordnet import WordNetLemmatizer\n",
        "from nltk.stem.porter import PorterStemmer\n"
      ],
      "execution_count": 0,
      "outputs": []
    },
    {
      "cell_type": "code",
      "metadata": {
        "id": "Dg-QonPOfWsk",
        "colab_type": "code",
        "colab": {}
      },
      "source": [
        "lem = WordNetLemmatizer()\n",
        "stem = PorterStemmer()\n"
      ],
      "execution_count": 0,
      "outputs": []
    },
    {
      "cell_type": "code",
      "metadata": {
        "id": "m7jt_Qcvfd8G",
        "colab_type": "code",
        "colab": {
          "base_uri": "https://localhost:8080/",
          "height": 34
        },
        "outputId": "88f530e8-1680-4a11-9928-c0d688d3b7c7"
      },
      "source": [
        "word = \"multiplying\"\n",
        "lem.lemmatize(word,'v')"
      ],
      "execution_count": 42,
      "outputs": [
        {
          "output_type": "execute_result",
          "data": {
            "text/plain": [
              "'multiply'"
            ]
          },
          "metadata": {
            "tags": []
          },
          "execution_count": 42
        }
      ]
    },
    {
      "cell_type": "code",
      "metadata": {
        "id": "fp8he2sNfwzi",
        "colab_type": "code",
        "colab": {
          "base_uri": "https://localhost:8080/",
          "height": 70
        },
        "outputId": "9cf3c2ba-03f6-4fbe-a000-dcd933f29dc9"
      },
      "source": [
        "nltk.download('wordnet')"
      ],
      "execution_count": 40,
      "outputs": [
        {
          "output_type": "stream",
          "text": [
            "[nltk_data] Downloading package wordnet to /root/nltk_data...\n",
            "[nltk_data]   Unzipping corpora/wordnet.zip.\n"
          ],
          "name": "stdout"
        },
        {
          "output_type": "execute_result",
          "data": {
            "text/plain": [
              "True"
            ]
          },
          "metadata": {
            "tags": []
          },
          "execution_count": 40
        }
      ]
    },
    {
      "cell_type": "code",
      "metadata": {
        "id": "Mo0faX-_fz9q",
        "colab_type": "code",
        "colab": {
          "base_uri": "https://localhost:8080/",
          "height": 34
        },
        "outputId": "e701bd82-7457-42c5-f5cc-c13e852ee8c7"
      },
      "source": [
        "stem.stem(word)"
      ],
      "execution_count": 43,
      "outputs": [
        {
          "output_type": "execute_result",
          "data": {
            "text/plain": [
              "'multipli'"
            ]
          },
          "metadata": {
            "tags": []
          },
          "execution_count": 43
        }
      ]
    },
    {
      "cell_type": "code",
      "metadata": {
        "id": "GPRXfXs5gP0a",
        "colab_type": "code",
        "colab": {}
      },
      "source": [
        "from nltk.corpus import stopwords\n"
      ],
      "execution_count": 0,
      "outputs": []
    },
    {
      "cell_type": "code",
      "metadata": {
        "id": "StkG-B5Igq56",
        "colab_type": "code",
        "colab": {
          "base_uri": "https://localhost:8080/",
          "height": 1000
        },
        "outputId": "3f3aa99e-60be-43de-eecd-4351a2855542"
      },
      "source": [
        "stopwords.words(\"english\")"
      ],
      "execution_count": 48,
      "outputs": [
        {
          "output_type": "execute_result",
          "data": {
            "text/plain": [
              "['i',\n",
              " 'me',\n",
              " 'my',\n",
              " 'myself',\n",
              " 'we',\n",
              " 'our',\n",
              " 'ours',\n",
              " 'ourselves',\n",
              " 'you',\n",
              " \"you're\",\n",
              " \"you've\",\n",
              " \"you'll\",\n",
              " \"you'd\",\n",
              " 'your',\n",
              " 'yours',\n",
              " 'yourself',\n",
              " 'yourselves',\n",
              " 'he',\n",
              " 'him',\n",
              " 'his',\n",
              " 'himself',\n",
              " 'she',\n",
              " \"she's\",\n",
              " 'her',\n",
              " 'hers',\n",
              " 'herself',\n",
              " 'it',\n",
              " \"it's\",\n",
              " 'its',\n",
              " 'itself',\n",
              " 'they',\n",
              " 'them',\n",
              " 'their',\n",
              " 'theirs',\n",
              " 'themselves',\n",
              " 'what',\n",
              " 'which',\n",
              " 'who',\n",
              " 'whom',\n",
              " 'this',\n",
              " 'that',\n",
              " \"that'll\",\n",
              " 'these',\n",
              " 'those',\n",
              " 'am',\n",
              " 'is',\n",
              " 'are',\n",
              " 'was',\n",
              " 'were',\n",
              " 'be',\n",
              " 'been',\n",
              " 'being',\n",
              " 'have',\n",
              " 'has',\n",
              " 'had',\n",
              " 'having',\n",
              " 'do',\n",
              " 'does',\n",
              " 'did',\n",
              " 'doing',\n",
              " 'a',\n",
              " 'an',\n",
              " 'the',\n",
              " 'and',\n",
              " 'but',\n",
              " 'if',\n",
              " 'or',\n",
              " 'because',\n",
              " 'as',\n",
              " 'until',\n",
              " 'while',\n",
              " 'of',\n",
              " 'at',\n",
              " 'by',\n",
              " 'for',\n",
              " 'with',\n",
              " 'about',\n",
              " 'against',\n",
              " 'between',\n",
              " 'into',\n",
              " 'through',\n",
              " 'during',\n",
              " 'before',\n",
              " 'after',\n",
              " 'above',\n",
              " 'below',\n",
              " 'to',\n",
              " 'from',\n",
              " 'up',\n",
              " 'down',\n",
              " 'in',\n",
              " 'out',\n",
              " 'on',\n",
              " 'off',\n",
              " 'over',\n",
              " 'under',\n",
              " 'again',\n",
              " 'further',\n",
              " 'then',\n",
              " 'once',\n",
              " 'here',\n",
              " 'there',\n",
              " 'when',\n",
              " 'where',\n",
              " 'why',\n",
              " 'how',\n",
              " 'all',\n",
              " 'any',\n",
              " 'both',\n",
              " 'each',\n",
              " 'few',\n",
              " 'more',\n",
              " 'most',\n",
              " 'other',\n",
              " 'some',\n",
              " 'such',\n",
              " 'no',\n",
              " 'nor',\n",
              " 'not',\n",
              " 'only',\n",
              " 'own',\n",
              " 'same',\n",
              " 'so',\n",
              " 'than',\n",
              " 'too',\n",
              " 'very',\n",
              " 's',\n",
              " 't',\n",
              " 'can',\n",
              " 'will',\n",
              " 'just',\n",
              " 'don',\n",
              " \"don't\",\n",
              " 'should',\n",
              " \"should've\",\n",
              " 'now',\n",
              " 'd',\n",
              " 'll',\n",
              " 'm',\n",
              " 'o',\n",
              " 're',\n",
              " 've',\n",
              " 'y',\n",
              " 'ain',\n",
              " 'aren',\n",
              " \"aren't\",\n",
              " 'couldn',\n",
              " \"couldn't\",\n",
              " 'didn',\n",
              " \"didn't\",\n",
              " 'doesn',\n",
              " \"doesn't\",\n",
              " 'hadn',\n",
              " \"hadn't\",\n",
              " 'hasn',\n",
              " \"hasn't\",\n",
              " 'haven',\n",
              " \"haven't\",\n",
              " 'isn',\n",
              " \"isn't\",\n",
              " 'ma',\n",
              " 'mightn',\n",
              " \"mightn't\",\n",
              " 'mustn',\n",
              " \"mustn't\",\n",
              " 'needn',\n",
              " \"needn't\",\n",
              " 'shan',\n",
              " \"shan't\",\n",
              " 'shouldn',\n",
              " \"shouldn't\",\n",
              " 'wasn',\n",
              " \"wasn't\",\n",
              " 'weren',\n",
              " \"weren't\",\n",
              " 'won',\n",
              " \"won't\",\n",
              " 'wouldn',\n",
              " \"wouldn't\"]"
            ]
          },
          "metadata": {
            "tags": []
          },
          "execution_count": 48
        }
      ]
    },
    {
      "cell_type": "code",
      "metadata": {
        "id": "eh-oXzWBg56G",
        "colab_type": "code",
        "colab": {
          "base_uri": "https://localhost:8080/",
          "height": 70
        },
        "outputId": "c23b97ef-17e9-456e-b8f5-08390756b2b6"
      },
      "source": [
        "nltk.download('stopwords')"
      ],
      "execution_count": 47,
      "outputs": [
        {
          "output_type": "stream",
          "text": [
            "[nltk_data] Downloading package stopwords to /root/nltk_data...\n",
            "[nltk_data]   Unzipping corpora/stopwords.zip.\n"
          ],
          "name": "stdout"
        },
        {
          "output_type": "execute_result",
          "data": {
            "text/plain": [
              "True"
            ]
          },
          "metadata": {
            "tags": []
          },
          "execution_count": 47
        }
      ]
    },
    {
      "cell_type": "code",
      "metadata": {
        "id": "lFIJFnOrhBnT",
        "colab_type": "code",
        "colab": {}
      },
      "source": [
        "english_stop = set(stopwords.words(\"english\"))"
      ],
      "execution_count": 0,
      "outputs": []
    },
    {
      "cell_type": "code",
      "metadata": {
        "id": "OaWjabNJhZ7Y",
        "colab_type": "code",
        "colab": {}
      },
      "source": [
        "words = [\"My\",\"name\",\"is\",\"a\",\"Saketh\"]"
      ],
      "execution_count": 0,
      "outputs": []
    },
    {
      "cell_type": "code",
      "metadata": {
        "id": "qBTT_7zlhk1j",
        "colab_type": "code",
        "colab": {
          "base_uri": "https://localhost:8080/",
          "height": 34
        },
        "outputId": "c2b0d9cc-f231-41b8-d31a-dc1547f4c22a"
      },
      "source": [
        "[word for word in words if word not in english_stop]"
      ],
      "execution_count": 51,
      "outputs": [
        {
          "output_type": "execute_result",
          "data": {
            "text/plain": [
              "['My', 'name', 'Saketh']"
            ]
          },
          "metadata": {
            "tags": []
          },
          "execution_count": 51
        }
      ]
    },
    {
      "cell_type": "code",
      "metadata": {
        "id": "JUZbpuDBhvnl",
        "colab_type": "code",
        "colab": {
          "base_uri": "https://localhost:8080/",
          "height": 371
        },
        "outputId": "7b49ddc2-e1a9-4bfc-c8aa-a5f4915204ff"
      },
      "source": [
        "#gTTS \n",
        "!pip install gtts"
      ],
      "execution_count": 52,
      "outputs": [
        {
          "output_type": "stream",
          "text": [
            "Collecting gtts\n",
            "  Downloading https://files.pythonhosted.org/packages/a1/0c/4ca77eca3b739a4a08360930643f58d714e302fee0d2f8c654e67d9af8e7/gTTS-2.1.1-py3-none-any.whl\n",
            "Requirement already satisfied: click in /usr/local/lib/python3.6/dist-packages (from gtts) (7.1.2)\n",
            "Requirement already satisfied: beautifulsoup4 in /usr/local/lib/python3.6/dist-packages (from gtts) (4.6.3)\n",
            "Requirement already satisfied: requests in /usr/local/lib/python3.6/dist-packages (from gtts) (2.23.0)\n",
            "Collecting gtts-token>=1.1.3\n",
            "  Downloading https://files.pythonhosted.org/packages/e7/25/ca6e9cd3275bfc3097fe6b06cc31db6d3dfaf32e032e0f73fead9c9a03ce/gTTS-token-1.1.3.tar.gz\n",
            "Requirement already satisfied: six in /usr/local/lib/python3.6/dist-packages (from gtts) (1.12.0)\n",
            "Requirement already satisfied: certifi>=2017.4.17 in /usr/local/lib/python3.6/dist-packages (from requests->gtts) (2020.4.5.1)\n",
            "Requirement already satisfied: chardet<4,>=3.0.2 in /usr/local/lib/python3.6/dist-packages (from requests->gtts) (3.0.4)\n",
            "Requirement already satisfied: urllib3!=1.25.0,!=1.25.1,<1.26,>=1.21.1 in /usr/local/lib/python3.6/dist-packages (from requests->gtts) (1.24.3)\n",
            "Requirement already satisfied: idna<3,>=2.5 in /usr/local/lib/python3.6/dist-packages (from requests->gtts) (2.9)\n",
            "Building wheels for collected packages: gtts-token\n",
            "  Building wheel for gtts-token (setup.py) ... \u001b[?25l\u001b[?25hdone\n",
            "  Created wheel for gtts-token: filename=gTTS_token-1.1.3-cp36-none-any.whl size=4097 sha256=3bdfbdec5bf7f7f39e5576a584536a22f9e5d6a8fc274ebd8bae3455fecbb8c8\n",
            "  Stored in directory: /root/.cache/pip/wheels/dd/11/61/33f7e51bf545e910552b2255eead2a7cd8ef54064b46dceb34\n",
            "Successfully built gtts-token\n",
            "Installing collected packages: gtts-token, gtts\n",
            "Successfully installed gtts-2.1.1 gtts-token-1.1.3\n"
          ],
          "name": "stdout"
        }
      ]
    },
    {
      "cell_type": "code",
      "metadata": {
        "id": "TfsuMMXjip3P",
        "colab_type": "code",
        "colab": {}
      },
      "source": [
        "from gtts import gTTS"
      ],
      "execution_count": 0,
      "outputs": []
    },
    {
      "cell_type": "code",
      "metadata": {
        "id": "9EGL3Rgni9Qj",
        "colab_type": "code",
        "colab": {
          "base_uri": "https://localhost:8080/",
          "height": 34
        },
        "outputId": "ac349207-c25b-49b7-f885-569f16e068f5"
      },
      "source": [
        "some = gTTS(\"hello everyone\")\n",
        "some"
      ],
      "execution_count": 54,
      "outputs": [
        {
          "output_type": "execute_result",
          "data": {
            "text/plain": [
              "<gtts.tts.gTTS at 0x7f73496a2470>"
            ]
          },
          "metadata": {
            "tags": []
          },
          "execution_count": 54
        }
      ]
    },
    {
      "cell_type": "code",
      "metadata": {
        "id": "UHsVwt85jD4V",
        "colab_type": "code",
        "colab": {}
      },
      "source": [
        "some.save(\"hello.mp3\")"
      ],
      "execution_count": 0,
      "outputs": []
    },
    {
      "cell_type": "code",
      "metadata": {
        "id": "5XYVhMs1jKTJ",
        "colab_type": "code",
        "colab": {
          "base_uri": "https://localhost:8080/",
          "height": 899
        },
        "outputId": "3b0d9965-85ed-4f42-a120-9d1c46fa87a5"
      },
      "source": [
        "! pip install newspaper3k"
      ],
      "execution_count": 56,
      "outputs": [
        {
          "output_type": "stream",
          "text": [
            "Collecting newspaper3k\n",
            "\u001b[?25l  Downloading https://files.pythonhosted.org/packages/d7/b9/51afecb35bb61b188a4b44868001de348a0e8134b4dfa00ffc191567c4b9/newspaper3k-0.2.8-py3-none-any.whl (211kB)\n",
            "\r\u001b[K     |█▌                              | 10kB 17.9MB/s eta 0:00:01\r\u001b[K     |███                             | 20kB 1.7MB/s eta 0:00:01\r\u001b[K     |████▋                           | 30kB 2.1MB/s eta 0:00:01\r\u001b[K     |██████▏                         | 40kB 1.7MB/s eta 0:00:01\r\u001b[K     |███████▊                        | 51kB 1.9MB/s eta 0:00:01\r\u001b[K     |█████████▎                      | 61kB 2.2MB/s eta 0:00:01\r\u001b[K     |██████████▉                     | 71kB 2.4MB/s eta 0:00:01\r\u001b[K     |████████████▍                   | 81kB 2.6MB/s eta 0:00:01\r\u001b[K     |██████████████                  | 92kB 2.9MB/s eta 0:00:01\r\u001b[K     |███████████████▌                | 102kB 2.8MB/s eta 0:00:01\r\u001b[K     |█████████████████               | 112kB 2.8MB/s eta 0:00:01\r\u001b[K     |██████████████████▋             | 122kB 2.8MB/s eta 0:00:01\r\u001b[K     |████████████████████▏           | 133kB 2.8MB/s eta 0:00:01\r\u001b[K     |█████████████████████▊          | 143kB 2.8MB/s eta 0:00:01\r\u001b[K     |███████████████████████▎        | 153kB 2.8MB/s eta 0:00:01\r\u001b[K     |████████████████████████▉       | 163kB 2.8MB/s eta 0:00:01\r\u001b[K     |██████████████████████████▍     | 174kB 2.8MB/s eta 0:00:01\r\u001b[K     |████████████████████████████    | 184kB 2.8MB/s eta 0:00:01\r\u001b[K     |█████████████████████████████▌  | 194kB 2.8MB/s eta 0:00:01\r\u001b[K     |███████████████████████████████ | 204kB 2.8MB/s eta 0:00:01\r\u001b[K     |████████████████████████████████| 215kB 2.8MB/s \n",
            "\u001b[?25hRequirement already satisfied: Pillow>=3.3.0 in /usr/local/lib/python3.6/dist-packages (from newspaper3k) (7.0.0)\n",
            "Requirement already satisfied: lxml>=3.6.0 in /usr/local/lib/python3.6/dist-packages (from newspaper3k) (4.2.6)\n",
            "Requirement already satisfied: nltk>=3.2.1 in /usr/local/lib/python3.6/dist-packages (from newspaper3k) (3.2.5)\n",
            "Collecting cssselect>=0.9.2\n",
            "  Downloading https://files.pythonhosted.org/packages/3b/d4/3b5c17f00cce85b9a1e6f91096e1cc8e8ede2e1be8e96b87ce1ed09e92c5/cssselect-1.1.0-py2.py3-none-any.whl\n",
            "Requirement already satisfied: requests>=2.10.0 in /usr/local/lib/python3.6/dist-packages (from newspaper3k) (2.23.0)\n",
            "Collecting feedfinder2>=0.0.4\n",
            "  Downloading https://files.pythonhosted.org/packages/35/82/1251fefec3bb4b03fd966c7e7f7a41c9fc2bb00d823a34c13f847fd61406/feedfinder2-0.0.4.tar.gz\n",
            "Requirement already satisfied: beautifulsoup4>=4.4.1 in /usr/local/lib/python3.6/dist-packages (from newspaper3k) (4.6.3)\n",
            "Requirement already satisfied: PyYAML>=3.11 in /usr/local/lib/python3.6/dist-packages (from newspaper3k) (3.13)\n",
            "Collecting tinysegmenter==0.3\n",
            "  Downloading https://files.pythonhosted.org/packages/17/82/86982e4b6d16e4febc79c2a1d68ee3b707e8a020c5d2bc4af8052d0f136a/tinysegmenter-0.3.tar.gz\n",
            "Collecting tldextract>=2.0.1\n",
            "\u001b[?25l  Downloading https://files.pythonhosted.org/packages/fd/0e/9ab599d6e78f0340bb1d1e28ddeacb38c8bb7f91a1b0eae9a24e9603782f/tldextract-2.2.2-py2.py3-none-any.whl (48kB)\n",
            "\u001b[K     |████████████████████████████████| 51kB 5.3MB/s \n",
            "\u001b[?25hCollecting jieba3k>=0.35.1\n",
            "\u001b[?25l  Downloading https://files.pythonhosted.org/packages/a9/cb/2c8332bcdc14d33b0bedd18ae0a4981a069c3513e445120da3c3f23a8aaa/jieba3k-0.35.1.zip (7.4MB)\n",
            "\u001b[K     |████████████████████████████████| 7.4MB 8.4MB/s \n",
            "\u001b[?25hRequirement already satisfied: python-dateutil>=2.5.3 in /usr/local/lib/python3.6/dist-packages (from newspaper3k) (2.8.1)\n",
            "Collecting feedparser>=5.2.1\n",
            "\u001b[?25l  Downloading https://files.pythonhosted.org/packages/91/d8/7d37fec71ff7c9dbcdd80d2b48bcdd86d6af502156fc93846fb0102cb2c4/feedparser-5.2.1.tar.bz2 (192kB)\n",
            "\u001b[K     |████████████████████████████████| 194kB 46.2MB/s \n",
            "\u001b[?25hRequirement already satisfied: six in /usr/local/lib/python3.6/dist-packages (from nltk>=3.2.1->newspaper3k) (1.12.0)\n",
            "Requirement already satisfied: certifi>=2017.4.17 in /usr/local/lib/python3.6/dist-packages (from requests>=2.10.0->newspaper3k) (2020.4.5.1)\n",
            "Requirement already satisfied: idna<3,>=2.5 in /usr/local/lib/python3.6/dist-packages (from requests>=2.10.0->newspaper3k) (2.9)\n",
            "Requirement already satisfied: urllib3!=1.25.0,!=1.25.1,<1.26,>=1.21.1 in /usr/local/lib/python3.6/dist-packages (from requests>=2.10.0->newspaper3k) (1.24.3)\n",
            "Requirement already satisfied: chardet<4,>=3.0.2 in /usr/local/lib/python3.6/dist-packages (from requests>=2.10.0->newspaper3k) (3.0.4)\n",
            "Requirement already satisfied: setuptools in /usr/local/lib/python3.6/dist-packages (from tldextract>=2.0.1->newspaper3k) (46.1.3)\n",
            "Collecting requests-file>=1.4\n",
            "  Downloading https://files.pythonhosted.org/packages/77/86/cdb5e8eaed90796aa83a6d9f75cfbd37af553c47a291cd47bc410ef9bdb2/requests_file-1.5.1-py2.py3-none-any.whl\n",
            "Building wheels for collected packages: feedfinder2, tinysegmenter, jieba3k, feedparser\n",
            "  Building wheel for feedfinder2 (setup.py) ... \u001b[?25l\u001b[?25hdone\n",
            "  Created wheel for feedfinder2: filename=feedfinder2-0.0.4-cp36-none-any.whl size=3357 sha256=c207fb705f8283db82d5cd49e64653e4a2368b1daee9bdcc2954339917402a13\n",
            "  Stored in directory: /root/.cache/pip/wheels/de/03/ca/778e3a7a627e3d98836cc890e7cb40c7575424cfd3340f40ed\n",
            "  Building wheel for tinysegmenter (setup.py) ... \u001b[?25l\u001b[?25hdone\n",
            "  Created wheel for tinysegmenter: filename=tinysegmenter-0.3-cp36-none-any.whl size=13539 sha256=51830ad422cffa063915aedb1c6a4b4ad42d6751be196c48914c33289ebac2f1\n",
            "  Stored in directory: /root/.cache/pip/wheels/81/2b/43/a02ede72324dd40cdd7ca53aad718c7710628e91b8b0dc0f02\n",
            "  Building wheel for jieba3k (setup.py) ... \u001b[?25l\u001b[?25hdone\n",
            "  Created wheel for jieba3k: filename=jieba3k-0.35.1-cp36-none-any.whl size=7398406 sha256=2c84fd9726c766d53ee72425f2bcca8e17c53cf0e9b57a1a3dc9aad4c71fceca\n",
            "  Stored in directory: /root/.cache/pip/wheels/83/15/9c/a3f1f67e7f7181170ad37d32e503c35da20627c013f438ed34\n",
            "  Building wheel for feedparser (setup.py) ... \u001b[?25l\u001b[?25hdone\n",
            "  Created wheel for feedparser: filename=feedparser-5.2.1-cp36-none-any.whl size=44940 sha256=46b4827151bbb1905a16162e6fe6c8ae6f879c866c4cba4323361c0be8237693\n",
            "  Stored in directory: /root/.cache/pip/wheels/8c/69/b7/f52763c41c5471df57703a0ef718a32a5e81ee35dcf6d4f97f\n",
            "Successfully built feedfinder2 tinysegmenter jieba3k feedparser\n",
            "Installing collected packages: cssselect, feedfinder2, tinysegmenter, requests-file, tldextract, jieba3k, feedparser, newspaper3k\n",
            "Successfully installed cssselect-1.1.0 feedfinder2-0.0.4 feedparser-5.2.1 jieba3k-0.35.1 newspaper3k-0.2.8 requests-file-1.5.1 tinysegmenter-0.3 tldextract-2.2.2\n"
          ],
          "name": "stdout"
        }
      ]
    },
    {
      "cell_type": "code",
      "metadata": {
        "id": "4xnQzZcmjnS5",
        "colab_type": "code",
        "colab": {}
      },
      "source": [
        "from newspaper import Article"
      ],
      "execution_count": 0,
      "outputs": []
    },
    {
      "cell_type": "code",
      "metadata": {
        "id": "tNIheS3Zj2h2",
        "colab_type": "code",
        "colab": {}
      },
      "source": [
        "article = Article(\"https://en.wikipedia.org/wiki/Virat_Kohli\")\n",
        "article.download()"
      ],
      "execution_count": 0,
      "outputs": []
    },
    {
      "cell_type": "code",
      "metadata": {
        "id": "gH1RKbqwkRgw",
        "colab_type": "code",
        "colab": {}
      },
      "source": [
        "#parsing the article \n",
        "article.parse()"
      ],
      "execution_count": 0,
      "outputs": []
    },
    {
      "cell_type": "code",
      "metadata": {
        "id": "UC2r1QHnkbKA",
        "colab_type": "code",
        "colab": {
          "base_uri": "https://localhost:8080/",
          "height": 70
        },
        "outputId": "b13744cd-0dd8-458e-ed38-1c4b1bf02379"
      },
      "source": [
        "nltk.download('punkt')"
      ],
      "execution_count": 60,
      "outputs": [
        {
          "output_type": "stream",
          "text": [
            "[nltk_data] Downloading package punkt to /root/nltk_data...\n",
            "[nltk_data]   Package punkt is already up-to-date!\n"
          ],
          "name": "stdout"
        },
        {
          "output_type": "execute_result",
          "data": {
            "text/plain": [
              "True"
            ]
          },
          "metadata": {
            "tags": []
          },
          "execution_count": 60
        }
      ]
    },
    {
      "cell_type": "code",
      "metadata": {
        "id": "xTxtuCCgktSu",
        "colab_type": "code",
        "colab": {}
      },
      "source": [
        "#get the articles text\n",
        "article.nlp()\n",
        "mytext = article.text"
      ],
      "execution_count": 0,
      "outputs": []
    },
    {
      "cell_type": "code",
      "metadata": {
        "id": "svTG3nvwk5dG",
        "colab_type": "code",
        "colab": {
          "base_uri": "https://localhost:8080/",
          "height": 54
        },
        "outputId": "e914a350-9621-4f63-f17a-79f409875da0"
      },
      "source": [
        "mytext"
      ],
      "execution_count": 62,
      "outputs": [
        {
          "output_type": "execute_result",
          "data": {
            "text/plain": [
              "'Indian international cricketer\\n\\nVirat Kohli ( (help·info) ; born 5 November 1988) is an Indian cricketer who currently captains the India national team. A right-handed top-order batsman, Kohli is regarded as one of the best batsmen in the world.[3] He plays for Royal Challengers Bangalore in the Indian Premier League (IPL), and has been the team\\'s captain since 2013. Since October 2017, he has been the top-ranked ODI batsman in the world and is currently 2nd in Test rankings with 886 points.[4][5] Among Indian batsmen, Kohli has the best ever Test rating (937 points), ODI rating (911 points) and T20I rating (897 points).\\n\\nKohli captained India Under-19s to victory at the 2008 Under-19 World Cup in Malaysia. After a few months later, he made his ODI debut for India against Sri Lanka at the age of 19. Initially having played as a reserve batsman in the Indian team, he soon established himself as a regular in the ODI middle-order and was part of the squad that won the 2011 World Cup. He made his Test debut in 2011 and shrugged off the tag of \"ODI specialist\" by 2013 with Test hundreds in Australia and South Africa.[6] Having reached the number one spot in the ICC rankings for ODI batsmen for the first time in 2013,[7] Kohli also found success in the Twenty20 format, winning the Man of the Tournament twice at the ICC World Twenty20 (in 2014 and 2016).\\n\\nKohli was appointed the vice-captain of the ODI team in 2012 and handed over the Test captaincy following Mahendra Singh Dhoni\\'s Test retirement in 2014. In early 2017, he became the limited-overs captain as well after Dhoni stepped down from the position. In ODIs, Kohli has the second highest number of centuries and the highest number of centuries in run-chases in the world. He holds the world record for being the fastest batsman to 10,000 and 11,000 runs in ODI cricket, reaching the milestones in 205 and 222 innings respectively.[8][9]\\n\\nKohli has been the recipient of many awards such as the Sir Garfield Sobers Trophy (ICC Cricketer of the Year) in 2017 and 2018; ICC Test Player of the Year 2018; ICC ODI Player of the Year in 2012, 2017 and 2018 and Wisden Leading Cricketer in the World in 2016, 2017 and 2018.[10] He was given the Arjuna Award in 2013, the Padma Shri under the sports category in 2017[11] and the Rajiv Gandhi Khel Ratna, the highest sporting honour in India, in 2018.[12] Kohli is ranked as one of the world\\'s most famous athletes by ESPN[13] and one of the most valuable athlete brands by Forbes.[14] In 2018, Time magazine named Kohli one of the 100 most influential people in the world.[15]\\n\\nEarly life\\n\\nVirat Kohli was born on 5 November 1988 in Delhi into a Punjabi family.[16] His father, Prem Kohli, worked as a criminal lawyer and his mother, Saroj Kohli, is a housewife.[17] He has an older brother, Vikas, and an older sister, Bhavna.[18] According to his family, when he was three-years old, Kohli would pick up a cricket bat, start swinging it and ask his father to bowl at him.[19]\\n\\nKohli was raised in Uttam Nagar[20] and started his schooling at Vishal Bharti Public School. In 1998, the West Delhi Cricket Academy was created and a nine-year-old Kohli was part of its first intake.[20] Kohli\\'s father took him to the academy after their neighbours suggested that \"Virat shouldn\\'t waste his time in gully cricket and instead join a professional club\".[17] Kohli trained at the academy under Rajkumar Sharma and also played matches at the Sumeet Dogra Academy at Vasundhara Enclave at the same time.[20] Sharma recounts Kohli\\'s early days at his academy, \"He oozed talent. It was so difficult to keep him quiet. He was a natural in whatever he did and I was most impressed with his attitude. He was ready to bat at any spot, and I had to literally push him home after the training sessions. He just wouldn’t leave.\"[21] In ninth grade, he shifted to Saviour Convent in Paschim Vihar to help his cricket practice.[17] Apart from sports, Kohli was good at academics as well, and his teachers remember him as \"a bright and alert child\".[22] Kohli\\'s family lived in Meera Bagh until 2015 when they moved to Gurgaon.[23]\\n\\nKohli\\'s father died on 18 December 2006 due to a stroke after being bed-ridden for a month.[17] Regarding his early life, Kohli has said in an interview, \"I\\'ve seen a lot in life. Losing my father at a young age, the family business not doing too well, staying in a rented place. There were tough times for the family... It\\'s all embedded in my memory.\"[24] According to Kohli, his father supported his cricket training during his childhood, \"My father was my biggest support. He was the one who drove me to practice every day. I miss his presence sometimes.\"[25]\\n\\nYouth and domestic career\\n\\nA younger Kohli as seen in this photo from 2010.\\n\\nKohli first played for Delhi Under-15 team in October 2002 in the 2002–03 Polly Umrigar Trophy. He was the leading run-scorer for his team in that tournament with 172 runs at an average of 34.40.[26] He became the captain of the team for the 2003–04 Polly Umrigar Trophy[27] and scored 390 runs in 5 innings at an average of 78 including two centuries and two fifties.[28] In late 2004, he was selected in the Delhi Under-17 team for the 2003–04 Vijay Merchant Trophy. He scored 470 runs in four matches at an average of 117.50 with two hundreds and top-score of 251*.[29] Delhi Under-17s won the 2004–05 Vijay Merchant Trophy in which Kohli finished as the highest run-scorer with 757 runs from 7 matches at an average of 84.11 with two centuries.[30] In February 2006, he made his List A debut for Delhi against Services but did not get to bat.[31]\\n\\nIn July 2006, Kohli was selected in the India Under-19 squad on its tour of England. He averaged 105 in the three-match ODI series against England Under-19s[32] and 49 in the three-match Test series.[33] India Under-19 went on to win both the series. At the conclusion of the tour, the India Under-19 coach Lalchand Rajput was impressed with Kohli and said, \"Kohli showed strong technical skills against both pace and spin\".[34] In September, the India Under-19 team toured Pakistan. Kohli averaged 58 in the Test series[35] and 41.66 in the ODI series against Pakistan Under-19s.[36]\\n\\n\"The way I approached the game changed that day. I just had one thing in my mind - that I have to play for my country and live that dream for my dad.\" — Kohli on his innings against Karnataka[37]\\n\\nKohli made his first-class debut for Delhi against Tamil Nadu in November 2006, at the age of 18, and scored 10 in his debut innings. He came into the spotlight in December when he decided to play for his team against Karnataka on the day after his father\\'s death and went on to score 90.[38] He went directly to the funeral after he was dismissed. Delhi captain Mithun Manhas said, \"That is an act of great commitment to the team and his innings turned out to be crucial,\" while coach Chetan Chauhan lauded Kohli\\'s \"attitude and determination.\"[39] His mother noted that \"Virat changed a bit after that day. Overnight he became a much more matured person. He took every match seriously. He hated being on the bench. It\\'s as if his life hinged totally on cricket after that day. Now, he looked like he was chasing his father\\'s dream which was his own too.\"[17] He scored a total of 257 runs from 6 matches at an average of 36.71 in that season.[40]\\n\\nIn April 2007, he made his Twenty20 debut and finished as the highest run-getter for his team in the Inter-State T20 Championship with 179 runs at an average of 35.80.[41] In July–August 2007, the India Under-19 team toured Sri Lanka. In the triangular series against Sri Lanka Under-19s and Bangladesh Under-19s, Kohli was the second highest run-getter with 146 runs from 5 matches.[42] In the two-match Test series that followed, he scored 244 runs at an average of 122 including a hundred and a fifty.[43]\\n\\n\"He is a very physical type of player. He likes to impose himself on the game, backs it up with his skill.\" — India\\'s coach at the 2008 Under-19 World Cup Dav Whatmore on Kohli[37]\\n\\nIn February–March 2008, Kohli captained the victorious Indian team at the 2008 ICC Under-19 Cricket World Cup held in Malaysia. Batting at number 3, he scored 235 runs in 6 matches at an average of 47 and finished as the tournament\\'s third-highest run-getter and one of the three batsmen to score a hundred in the tournament.[44] His century (100 runs from 74 balls) against the West Indies Under-19s in the group stage, which was called \"the innings of the tournament\" by ESPNcricinfo,[45] gave India a 50-run victory and earned Kohli the man of the match. Kohli picked up a leg injury during the match, but recovered in time to play the quarter-final match against England Under-19s.[46] He was instrumental in India\\'s three-wicket semi-final win over New Zealand Under-19s in which he took 2/27 and scored 43 in the tense run-chase and was awarded the man of the match.[47] He scored 19 against South Africa Under-19s in the final which India won by 12 runs (D/L method). ESPNcricinfo commended him for making several tactical bowling changes during the tournament.[45]\\n\\nFollowing the Under-19 World Cup, Kohli was bought by the Indian Premier League franchise Royal Challengers Bangalore for $30,000 on a youth contract.[48] In June 2008, Kohli and his Under-19 teammates Pradeep Sangwan and Tanmay Srivastava were awarded the Border-Gavaskar scholarship. The scholarship allowed the three players to train for six weeks at Cricket Australia\\'s Centre of Excellence in Brisbane.[44] In July 2008, he was included in India\\'s 30-man probable squad for the ICC Champions Trophy which was to be held in Pakistan in September 2008.[49] He was also picked in the India Emerging Players squad for the four-team Emerging Players Tournament in Australia. He was in fine form in that tournament and scored 206 runs in six matches at an average of 41.20.[50]\\n\\nInternational career\\n\\nEarly years\\n\\nIn August 2008, Kohli was included in the Indian ODI squad for tour of Sri Lanka and the Champions Trophy in Pakistan. Prior to the Sri Lankan tour, Kohli had played only eight List A matches,[51] and his selection was called a \"surprise call-up\".[52] During the Sri Lankan tour, as both first-choice openers Sachin Tendulkar and Virender Sehwag were injured, Kohli batted as a makeshift opener throughout the series. He made his international debut, at the age of 19, in the first ODI of the tour and was dismissed for 12.[53] He made his first ODI half century, a score of 54, in the fourth match which helped India win the series.[53] He had scores of 37, 25 and 31 in the other three matches.[53] India won the series 3–2 which was India\\'s first ODI series win against Sri Lanka in Sri Lanka.\\n\\nAfter the Champions Trophy was postponed to 2009, Kohli was picked as a replacement for the injured Shikhar Dhawan in the India A squad for the unofficial Tests against Australia A in September 2008.[54] He batted only once in the two-match series, and scored 49 in that innings.[55] Later that month in September 2008, he played for Delhi in the Nissar Trophy against SNGPL (winners of Quaid-i-Azam Trophy from Pakistan) and top-scored for Delhi in both innings, with 52 and 197.[56] The match was drawn but SNGPL won the trophy on first-innings lead.[57] In October 2008, Kohli played for Indian Board President\\'s XI in a four-day tour match against Australia. He made 105 and 16* in that match against a bowling line-up consisting of Brett Lee, Stuart Clark, Mitchell Johnson, Peter Siddle and Jason Krejza.[58]\\n\\nKohli was included in the squad for the home ODI series against England in November 2008 but was not given a chance to play, due to the inclusion of Tendulkar and Sehwag in the team.[59] In December 2008, Kohli was given a Grade D contract in the annual BCCI contracts list which entitled him to receive ₹1.5 million (equivalent to ₹3.4 million or US$47,000 in 2019).[60] He was then dropped from the squad for the five-match ODI series in Sri Lanka against Sri Lanka in January 2009.\\n\\nKohli was selected in the four-team Emerging Players Tournament in July–August 2009 held in Australia. He opened the innings for India Emerging Players in that tournament and finished as the leading run-getter with 398 runs from seven matches at an average of 66.33.[61] He scored 104 off 102 balls in the final against South Africa Emerging Players at Brisbane to help his team win the match by 17 runs and clinch the title.[62] At the conclusion of the tournament, Kris Srikkanth, the chairman of the national selection committee, was impressed with Kohli and remarked \"I must say, opener Virat Kohli was outstanding. Some of the shots he played spoke about his ability.\"[63] Kohli has called this tournament as the \"turning point\" of his career.[64]\\n\\nKohli returned to the national team replacing the injured Gautam Gambhir in the Indian squad for the tri-series in Sri Lanka.[65] He batted at number 4 for India in the 2009 ICC Champions Trophy because of an injury to Yuvraj Singh. In the inconsequential group match against the West Indies, Kohli scored an unbeaten 79 in India\\'s successful chase of 130 and won his first man of the match award.[66] Kohli played as a reserve batsman in the seven-match home ODI series against Australia, appearing in two matches as injury replacement. He found a place in the home ODI series against Sri Lanka in December 2009 and scored 27 and 54 in the first two ODIs before making way for Yuvraj who regained fitness for the third ODI. However, Yuvraj\\'s finger injury recurred leading to him being ruled out indefinitely.[67] Kohli returned to the team in the fourth ODI at Kolkata and scored his first ODI century–107 off 111 balls–sharing a 224-run partnership for the third wicket with Gambhir, who made his personal best score of 150. India won by seven wickets to seal the series 3–1.[53] The man of the match was awarded to Gambhir who gave the award to Kohli.[68]\\n\\nTendulkar was rested for the tri-nation ODI tournament in Bangladesh in January 2010, which enabled Kohli to play in each of India\\'s five matches. Against Bangladesh, he scored 91 to help secure a win after India collapsed to 51/3 early in their run-chase of 297.[53] In the next match against Sri Lanka, Kohli ended unbeaten on 71 to help India win the match with a bonus point having chased down their target of 214 within 33 overs. The next day, he scored his second ODI century, against Bangladesh, bringing up the mark with the winning runs.[69] He became only the third Indian batsman to score two ODI centuries before their 22nd birthday, after Tendulkar and Suresh Raina.[70] Kohli was much praised for his performances during the series[64][71] in particular by the Indian captain Dhoni.[72] Although Kohli made only two runs in the final against Sri Lanka in a four-wicket Indian defeat,[53] he finished as the leading run-getter of the series with 275 runs from five innings at an average of 91.66.[73] In the three-match ODI series at home against South Africa in February, Kohli batted in two games and had scores of 31 and 57.[53]\\n\\nRise through the ranks\\n\\nRaina was named captain and Kohli vice-captain for the tri-series against Sri Lanka and Zimbabwe in Zimbabwe in May–June 2010, as many first-choice players skipped the tour. Kohli made 168 runs at 42.00 including two fifties,[74] but India suffered three defeats in four matches and crashed out of the series. During the series, Kohli became the fastest Indian batsman to reach 1,000 runs in ODI cricket.[75] He made his T20I debut against Zimbabwe at Harare and scored an unbeaten 26.[76] Later that month, Kohli batted at 3 in a full-strength Indian team throughout the 2010 Asia Cup and scored a total of 67 runs at an average of 16.75.[77] His struggles with form continued in the tri-series against Sri Lanka and New Zealand in Sri Lanka where he averaged 15.\\n\\nKohli batting in an ODI against New Zealand in December 2010\\n\\nDespite the poor run of form, Kohli was retained in the ODI squad for a three-match series against Australia in October, and in the only completed match of the series at Visakhapatnam, scored his third ODI century–118 off 121 balls–which helped India reach the target of 290 after losing the openers early.[78] Winning the man of the match, he admitted that he was under pressure to keep his place in the team after failures in the two previous series.[79] Part of a largely inexperienced team for the home ODI series against New Zealand, Kohli scored a match-winning 104-ball 105, his fourth ODI hundred and second in succession, in the first game,[80] and followed it up with 64 and 63* in the next two matches.[53] India completed a 5–0 whitewash of New Zealand, while Kohli\\'s performance in the series helped him become a regular in the ODI team[81] and made him a strong contender for a spot in India\\'s World Cup squad.[82] He was India\\'s leading run-scorer in ODIs in 2010, with 995 runs from 25 matches at an average of 47.38 including three centuries.[83]\\n\\nKohli was India\\'s leading run-getter in the five-match ODI series of the South African tour in January 2011, with 193 runs at an average of 48.25 including two fifties, both in Indian defeats.[84] During the series, he jumped to number two spot on the ICC Rankings for ODI batsmen,[85] and was named in India\\'s 15-man squad for the World Cup.[86] The inclusion of both Kohli and Raina in the World Cup squad resulted in speculations about which of the two batsmen will make it to the playing eleven. Days before India\\'s first match of the tournament, Indian captain Dhoni indicated that the in-form Kohli is likely to be preferred over Raina.[85]\\n\\nKohli played in every match of India\\'s successful World Cup campaign. He scored an unbeaten 100, his fifth ODI century, in the first match against Bangladesh and became the first Indian batsman to score a century on World Cup debut.[87] In the next four group matches he had low scores of 8, 34, 12 and 1 against England, Ireland, Netherlands and South Africa respectively. Having returned to form with 59 against the West Indies, he scored only 24 and 9 in the quarter-final against Australia and semi-final against Pakistan respectively.[53] In the final against Sri Lanka at Mumbai, he scored 35, sharing an 83-run partnership with Gambhir for the third wicket after India had lost both openers within the seventh over chasing 275.[88] This partnership is regarded as \"one of the turning points in the match\",[89] as India went on to win the match by six wickets and lift the World Cup for the first time since 1983.[90]\\n\\nConsistent performance in limited overs\\n\\nKohli fielding during a match in December 2010\\n\\nWhen India toured the West Indies in June–July 2011, they chose a largely inexperienced squad, resting Tendulkar and others such as Gambhir and Sehwag missing out due to injuries. Kohli was one of three uncapped players in the Test squad.[91] Kohli found success in the ODI series which India won 3–2, with a total of 199 runs at an average of 39.80.[92] His best efforts came in the second ODI at Port of Spain where he won the man of the match for his score of 81 which gave India a seven-wicket victory,[93] and the fifth ODI at Kingston where his innings of 94 came in a seven-wicket defeat.[53] Kohli made his Test debut at Kingston in the first match of the Test series that followed. He batted at 5 and was dismissed for 4 and 15 caught behind by Fidel Edwards in both innings.[94] India went on to win the Test series 1–0 but Kohli amassed just 76 runs from five innings,[95] struggling against the short ball[96] and was particularly troubled by the fast bowling of Edwards, who dismissed him three times in the series.[97]\\n\\nInitially dropped from the Test squad for India\\'s four-match series in England in July and August, Kohli was recalled as replacement for the injured Yuvraj,[98] though did not play in any match in the series. He found moderate success in the subsequent ODI series in which he averaged 38.80.[99] His score of 55 in the first ODI at Chester-le-Street was followed by a string of low scores in the next three matches.[53] In the last game of the series, Kohli scored his sixth ODI hundred–107 runs off 93 balls–and shared a 170-run third-wicket partnership with Rahul Dravid, who was playing his last ODI, to help India post their first 300-plus total of the tour.[100] Kohli was dismissed hit wicket in that innings which was the only century in the series by any player on either team and earned him praise for his \"hard work\" and \"maturity\".[101] However, England won the match by D/L method and the series 3–0.\\n\\nIn October 2011, Kohli was the leading run-scorer of the five-match home ODI series against England which India won 5–0. He scored a total of 270 runs across five matches including unbeaten knocks of 112 from 98 balls at Delhi, where he put on an unbroken 209-run partnership with Gambhir,[102] and 86 at Mumbai, both in successful run-chases.[53] Owing to his ODI success, Kohli was included, ahead of Raina, in the Test squad to face the West Indies in November. In competition with Yuvraj Singh for the number six position,[103] it was not until the final match of the series that Kohli was selected in the team. He scored a pair of fifties in the match,[94] with his first innings score of 52 ensuring India avoided follow-on.[104] India won the subsequent ODI series 4–1 in which Kohli managed to accumulate 243 runs at 60.75.[105] During the series, Kohli scored his eighth ODI century and his second at Visakhapatnam, where he made 117 off 123 balls in India\\'s run-chase of 271,[106] a knock which raised his reputation as \"an expert of the chase\".[107] Kohli ended up as the leading run-getter in ODIs for the year 2011, with 1381 runs from 34 matches at 47.62 and four centuries.[108]\\n\\nAscension to ODI vice-captaincy\\n\\nHaving found a place in India\\'s Test squad for the tour of Australia in December 2011, Kohli top-scored with 132 in a tour match against Cricket Australia Chairman\\'s XI to strengthen his case for a spot in the playing eleven ahead of Rohit Sharma.[109] Batting at number 6, Kohli failed to go past 25 in the first two Tests, as his defensive technique was exposed.[110][94] While fielding on the boundary during the second day of the second match, he gestured to the crowd with his middle finger for which he was fined 50% of his match fee by the match referee. He top-scored in each of India\\'s innings in the third Test at Perth, with 44 and 75, even as India surrendered to their second consecutive innings defeat.[111] In the fourth and final match at Adelaide, Kohli scored his maiden Test century of 116 runs in the first innings; it was the only century scored by an Indian in the series.[112] India suffered a 0–4 whitewash and Kohli, India\\'s top run-scorer in the series, was described as \"the lone bright spot in an otherwise nightmare visit for the tourists\".[113]\\n\\nKohli fielding during a CB Series match against Australia in February 2012\\n\\nIn the first seven matches of the Commonwealth Bank triangular series against hosts Australia and Sri Lanka, Kohli made two fifties–77 at Perth and 66 at Brisbane–both against Sri Lanka.[53] India registered two wins, a tie and four losses in these seven matches, which meant that they needed a bonus point win their last group match against Sri Lanka at Hobart, to stay in contention for qualifying for the finals series.[114] Being set a target of 321 by Sri Lanka, Kohli came to the crease with India\\'s score at 86/2 and went on to score 133 not out from 86 balls to take India to a comfortable win with 13 overs to spare.[115] India earned a bonus point with the win and Kohli was named Man of the Match for his knock, which included scoring 24 runs in an over by Lasith Malinga.[116] Former Australian cricketer and commentator Dean Jones rated Kohli\\'s innings as \"one of the greatest ODI knocks of all time\".[117] However, Sri Lanka beat Australia three days later in their last group fixture and knocked India out of the series.[118] With 373 runs at 53.28, Kohli once again finished as India\\'s highest run-scorer and lone centurion of the series.[119]\\n\\nKohli was appointed the vice-captain for the 2012 Asia Cup in Bangladesh on the back of his fine performance in Australia. Kris Srikkanth, the chairman of selectors, told reporters, \"Hats off to Virat Kohli for the way he played. We have to start looking towards the future. The selection committee and the Board felt Kohli is future captaincy material.\"[120] Kohli was in fine form during the tournament, finishing as the leading run-scorer with 357 runs at an average of 119.[121] He scored 108 in the opening match against Sri Lanka in a 50-run Indian victory,[122] while India lost their next match to Bangladesh in which he made 66.[53] In the final group stage match against Pakistan, he scored a personal best 183 off 148 balls, his 11th ODI century. Coming in at 0/1, he struck 22 fours and a six in his innings to help India to chase down 330, their highest successful ODI run-chase at the time.[123][124] His knock was the highest individual score in Asia Cup history, the joint-second highest score in an ODI run-chase and the highest individual score against Pakistan in ODIs surpassing previous record of 156 by Brian Lara.[125] Kohli was awarded the man of the match in both matches that India won, but India could not progress to the final of the tournament.\\n\\nIn July–August 2012, Kohli struck two centuries in the five-match ODI tour of Sri Lanka–106 off 113 balls at Hambantota and 128* off 119 balls at Colombo–winning man of the match in both games.[126][127] India won the series 4–1 and on account of scoring the most runs in the series, Kohli was named player of the series.[128] In the one-off T20I that followed, he scored a 48-ball 68, his first T20I fifty, and won the player of the series award.[129] Kohli scored his second Test century at Bangalore during New Zealand\\'s tour of India and won his first man of the match award in Test cricket.[130] India won the two-match series 2–0, and Kohli averaged 106 with one hundred and two fifties from three innings.[131] In the subsequent T20I series, he scored 70 runs off 41 balls, but India lost the match by one run and the series 1–0.[76] He continued to be in good form during the 2012 ICC World Twenty20 in Sri Lanka, with 185 runs from 5 matches at an average of 46.25.[132] He hit two fifties during the tournament, 50 against Afghanistan in the group stage[133] and 78* against Pakistan in the Super Eights, winning man of the match for both innings.[134] He was named in the ICC \\'Team of the Tournament\\'.[135]\\n\\nKohli\\'s Test form dipped during the first three matches of England\\'s tour of India with a top score of 20 and England leading the series 2–1.[94] He scored a patient 103 from 295 balls in the last match on a slow and low pitch at Nagpur,[136] keeping India in contention of drawing the series. ESPNcricinfo praised Kohli for having \"demonstrated his growing maturity to play just the sort of innings his side required\",[137] while Kohli described his knock as \"a learning innings\".[138] However, the match ended in a draw and England won their first Test series in India in 28 years.[139] Against Pakistan in December 2012, Kohli averaged 18 in the T20Is[140] and 4.33 in the ODIs,[141] being troubled by the fast bowlers, particularly Junaid Khan, who dismissed him on all three occasions in the ODI series.[142] Kohli had a quiet ODI series against England, apart from a match-winning 77* in the third ODI at Ranchi,[143] with a total of 155 runs at an average of 38.75.[144]\\n\\n\"I love watching Virat Kohli bat. He looks to me like an individual of my own heart. I love his aggression, and [he has] serious passion that I used to have. He reminds me of myself.\" — Former West Indies captain Sir Viv Richards on Kohli[145]\\n\\nKohli scored his fourth Test century (107) at Chennai in the first match of the home Test series against Australia in February 2013. He said he was \"feeling hungry for this series\" after a poor run of form in the two previous series and also disappointed on getting out soon after reaching the hundred-run mark.[146] India completed a 4–0 series sweep, becoming the first team to whitewash Australia in more than four decades.[147] Kohli averaged 56.80 in the series and cemented his spot in the Test team.[148]\\n\\nKohli batting against South Africa in Cardiff during the Champions Trophy in June 2013\\n\\nIn June 2013, Kohli featured in the ICC Champions Trophy in England which India won. He scored a match-winning 144 against Sri Lanka in a warm-up match.[149] He scored 34, 22 and 22 not out in India\\'s group matches against South Africa, West Indies and Pakistan respectively, while India qualified for the semi-finals with an undefeated record. In the semi-final against Sri Lanka at Cardiff, he struck 58 not out in an eight-wicket win for India.[53] The final between India and England at Birmingham was reduced to 20 overs after a rain delay. India batted first and Kohli top-scored with 43 from 34 balls, sharing a sixth-wicket partnership of 47 runs off 33 balls with Ravindra Jadeja and helping India reach 129/7 in 20 overs. India went on to secure a five-run win and their second consecutive ICC ODI tournament victory.[150] He was also named as part of the \\'Team of the Tournament\\' by the ICC.[151]\\n\\nSetting records\\n\\nKohli stood-in as the captain for the first ODI of the triangular series in the West Indies after Dhoni injured himself during the match. India lost the match by one wicket, and Dhoni was subsequently ruled out of the series with Kohli being named the captain for the remaining matches.[152] In his second match as captain, Kohli scored his first hundred as captain, making 102 off 83 balls against the West Indies at Port of Spain in a bonus point win for India.[153] Many senior players including Dhoni were rested for the five-match ODI tour of Zimbabwe in July 2013, with Kohli being appointed captain for an entire series for the first time.[154] In the first game of the series at Harare, he struck 115 runs from 108 balls, helping India chase down the target of 229 and winning the man of the match award.[155] He batted on two more occasions in the series in which he had scores of 14 and 58 not out. India completed a 5–0 sweep of the series; their first in an away ODI series.[156]\\n\\nKohli had a successful time with the bat in the seven-match ODI series against Australia. After top-scoring with 61 in the opening loss at Pune, he struck the fastest century by an Indian in ODIs in the second match at Jaipur. Reaching the milestone in just 52 balls and putting up an unbroken 186-run second-wicket partnership with Rohit Sharma that came in 17.2 overs,[157] Kohli\\'s innings of 100 not out helped India chase down the target of 360 for the loss of one wicket with more than six overs to spare. This chase was the second-highest successful run-chase in ODI cricket, while Kohli\\'s knock became the fastest hundred against Australia and the third-fastest in a run-chase.[158] He followed that innings with 68 in the next match at Mohali in another Indian defeat,[53] before the next two matches were washed out by rain. In the sixth ODI at Nagpur, he struck 115 off only 66 balls to help India successfully chase the target of 351 and level the series 2–2 and won the man of the match.[159] He reached the 100-run mark in 61 balls, making it the third-fastest ODI century by an Indian batsman, and also became the fastest batsman in the world to score 17 hundreds in ODI cricket.[160] India clinched the series after winning the last match in which he was run out for a duck. At the conclusion of the series, Kohli moved to the top position in the ICC ODI batsmen rankings for the first time in his career.[7]\\n\\nKohli batted twice in the two-match Test series against the West Indies, and had scores of 3 and 57 being dismissed by Shane Shillingford in both innings. This was also the last Test series for Tendulkar and Kohli was expected to take Tendulkar\\'s number 4 batting position after the series.[161] In the first game of the three-match ODI series that followed at Kochi, Kohli made 86 to seal a six-wicket win and won the man of the match.[162] During the match, he also equalled Viv Richards\\' record of becoming the fastest batsman to make 5,000 runs in ODI cricket, reaching the landmark in his 114th innings.[163] He missed out on his third century at Visakhapatnam in the next match, after being dismissed for 99 playing a hook shot off Ravi Rampaul.[164] India lost the match by two wickets, but took the series 2–1 after winning the last match at Kanpur.[165] With 204 runs at 68.00, Kohli finished the series as the leading run-getter and was awarded the man of the series.[166]\\n\\nOverseas season\\n\\nIndia toured South Africa in December 2013 for three ODIs and two Tests. Kohli averaged 15.50 in the ODIs, including a duck.[167] In the first Test at Johannesburg, playing his first Test in South Africa[168] and batting at 4 for the first time,[94] Kohli scored 119 and 96. His hundred was the first by a subcontinent batsman at the venue since 1998.[169] Regarding Kohli\\'s hundred, South Africa bowling coach Allan Donald said, \"The one word that comes to my mind is responsibility. I think he [Kohli] showed great discipline and responsibility. It reminds me of Sachin Tendulkar when they came here in 1996.\"[170] The match ended in a draw, and Kohli was awarded man of the match.[171] India failed to win a single match on the tour, losing the second Test by 10 wickets in which he made 46 and 11.[94]\\n\\n\"Kohli is the next chosen one. He exudes the intensity of Dravid , the audacity of Sehwag , and the extraordinary range of Tendulkar . That doesn\\'t make him better, simply sui generis , his own unique kind.\" — Former New Zealand captain Martin Crowe on Kohli[172]\\n\\nKohli continued to amass runs on the subsequent New Zealand tour. He averaged 58.21 in the five-match ODI series[173] in which his efforts of 111-ball 123 at Napier, 65-ball 78 at Hamilton and 78-ball 82 at Wellington[53] all went in vain as India were defeated 4–0. He made 214 runs at 71.33 in the two-match Test series that followed[174] including an unbeaten 105 on the last day of the second Test at Wellington that helped India save the match.[175]\\n\\nIndia then travelled to Bangladesh for the Asia Cup and World Twenty20. Dhoni was ruled out of the Asia Cup after suffering a side strain during the New Zealand tour, which led to Kohli being named the captain for the tournament.[176] Kohli scored 136 off 122 balls in India\\'s opening match against Bangladesh, sharing a 213-run third-wicket stand with Ajinkya Rahane, which helped India successfully chase 280.[177] It was his 19th ODI century and his fifth in Bangladesh, making him the batsman with most ODI centuries in Bangladesh.[178] India were knocked out of the tournament after narrow losses against Sri Lanka and Pakistan, in which Kohli scored 48 and 5 respectively.[53]\\n\\nDhoni returned from injury to captain the team for 2014 ICC World Twenty20 and Kohli was named vice-captain. In India\\'s opening match of the tournament against Pakistan, Kohli top-scored with 36 not out to guide India to a seven-wicket win. He scored 54 off 41 balls in the next game against West Indies and an unbeaten 57 from 50 balls against Bangladesh, both in successful run-chases.[76] In the semi-final, he made an unbeaten 72 in 44 deliveries to help India achieve the target of 173 with six wickets and five balls to spare.[179] He won the man of the match for this knock which he called \"my best T20 innings\".[180] India posted 130/4 in the final against Sri Lanka, in which Kohli scored 77 from 58 balls, and eventually lost the match by six wickets.[181] Kohli had made a total of 319 runs in the tournament at an average of 106.33, a record for most runs by an individual batsman in a single World Twenty20 tournament,[182] for which he won the Man of the Tournament award.[181]\\n\\nKohli and other senior players were rested for India\\'s tour of Bangladesh ahead of the England tour. India conceded a 3–1 defeat in the five-match Test series against England despite leading it 1–0 after the first two Tests. Kohli fared poorly in the series averaging just 13.40 in 10 innings with a top score of 39.[183] He was dismissed for single-digit scores on six occasions in the series and was particularly susceptible to the swinging ball on off stump line, being dismissed several times edging the ball to the wicket-keeper or slip fielders. Man of the series James Anderson got Kohli\\'s wicket four times,[184] while Kohli\\'s batting technique was questioned by analysts and former cricketers.[185][186] Geoffrey Boycott said, \"Jimmy Anderson ate him for breakfast. Every time Kohli came in, all he did was bowl at off stump, around the corridor of uncertainty and Kohli nicked it. He is playing with his bat too far away from his pad. He has to look at video replays of his technique and get back to basics\".[187] India won the ODI series that followed 3–1, but Kohli\\'s struggles with the bat continued with an average of 18 in four innings.[188] In the one-off T20I, he scored 41-ball 66, his first fifty-plus score of the tour on the last match of the tour.[76] India lost the match by three runs, but Kohli reached the number one spot for T20I batsmen in the ICC rankings.[189]\\n\\nKohli had a successful time during India\\'s home ODI series win over the West Indies in October 2014. His 62 in the second ODI at Delhi was his first fifty across Tests and ODIs in 16 innings since February,[190] and he stated that he got his \"confidence back\" with the innings.[191] He struck his 20th ODI hundred–127 runs in 114 balls–in the fourth match at Dharamsala. India registered a 59-run victory and Kohli was awarded man of the match.[192] Dhoni was rested for the five-match ODI series against Sri Lanka in November, enabling Kohli to lead the team for another full series. Kohli batted at 4 throughout the series and made scores of 22, 49, 53 and 66 in the first four ODIs, with India leading the series 4–0. In the fifth ODI at Ranchi, Kohli came in to bat with India at 14/2 in pursuit of 287. He made an unbeaten 139 off 126 balls to give his team a three-wicket win and a whitewash of Sri Lanka.[193] Kohli was awarded player of the series, and it was the second whitewash under his captaincy.[194] During the series he became the fastest batsman in the world to go past the 6000-run mark in ODIs.[195] With 1054 ODI runs at 58.55 in 2014, he became the second player in the world after Sourav Ganguly to make more than 1,000 runs in ODIs for four consecutive calendar years.[196]\\n\\nTest captaincy\\n\\nKohli with coach Duncan Fletcher in January 2015, before the fourth Test in Sydney\\n\\nFor the first Test of the Australian tour in December 2014, Dhoni was not part of the Indian team at Adelaide due to an injury, and Kohli took the reins as Test captain for the first time.[197] Kohli scored 115 in India\\'s first innings, becoming the fourth Indian to score a hundred on Test captaincy debut.[198] In their second innings, India were set a target of 364 to be scored on the fifth day. Kohli came in to bat when the Indian innings was reduced to 57/2 and started batting aggressively. He put on 185 runs for the third wicket with Murali Vijay before Vijay\\'s dismissal, which triggered a batting collapse. From 242/2, India was bowled out for 315 with Kohli\\'s 141 off 175 balls being the top score.[199] Kohli noted that his team was looking for a win and not a draw, while also saying that it was \"the best Test I have been part of\".[200] Kohli\\'s second innings ton was hailed by several Australian commentators as the finest fourth-innings performance they had ever seen in Australia.[201]\\n\\nDhoni returned to the team as captain for the second match at Brisbane where Kohli scored 19 and 1 in a four-wicket defeat for India.[94] In the Melbourne Boxing Day Test, Kohli was India\\'s top-scorer in both innings. He made his personal best Test score of 169 in the first innings while sharing a 262-run partnership with Rahane, India\\'s biggest partnership outside Asia in ten years.[202] Kohli followed it with a score of 54 in India\\'s second innings on the fifth day, helping his team draw the Test match.[94] Dhoni announced his retirement from Test cricket at the conclusion of this match, and Kohli was appointed as the full-time Test captain ahead of the fourth Test at Sydney.[203] Captaining the Test team for the second time, Kohli hit 147 in the first innings of the match and became the first batsman in Test cricket history to score three hundreds in his first three innings as Test captain.[204] He was dismissed for 46 in the second innings and India hung in for another draw.[205] Kohli\\'s total of 692 runs in four Tests was the most by any Indian batsman in a Test series in Australia.[204]\\n\\nIn January 2015, India failed to win a single match in the tri-nation ODI series against the hosts Australia and England. Kohli was unable to replicate his Test success in ODIs, failing to make a two-digit score in any of the four games.[53] Kohli\\'s ODI form did not improve in the lead-up to the World Cup, with scores of 18 and 5 in the warm-up matches against Australia and Afghanistan respectively.\\n\\nKohli batting against the UAE in Perth during a group stage match of the 2015 World Cup\\n\\nIn the first match of the World Cup against Pakistan at Adelaide, Kohli hit 107 in 126 balls, sharing 100-plus partnerships with both Dhawan and Raina, to help India set a total of 300 and win the match by 76 runs. For his knock, he was awarded the man of the match award, his 20th in ODIs and first in a World Cup match.[206] He was dismissed for 46 in India\\'s second match against South Africa after another century partnership with opening batsman Dhawan. India went on to post 307 in 50 overs and register a 130-run victory in the match. India batted second in their remaining four group matches in which Kohli scored 33*, 33, 44* and 38 against UAE, West Indies, Ireland and Zimbabwe respectively.[53] India went on to secure wins in these four fixtures and top the Pool B points with an undefeated record.[207] In India\\'s 109-run victory in the quarter-final over Bangladesh, Kohli was dismissed by Rubel Hossain for 3 edging the ball to the wicket-keeper. India was eliminated in the semi-final by Australia at Melbourne, where Kohli was dismissed for 1 off 13 balls, top-edging a short-pitched delivery from Mitchell Johnson.[53]\\n\\nKohli had a slump in form when India toured Bangladesh in June 2015. He contributed only 14 in the one-off Test which ended in a draw and averaged 16.33 in the ODI series which Bangladesh won 2–1.[208] Kohli ended his streak of low scores by scoring his 11th Test hundred in the first Test of the Sri Lankan tour which India lost. India came back and won the next two matches to seal the series 2–1, Kohli\\'s first series win as Test captain and India\\'s first away Test series win in four years.[209]\\n\\nDuring South Africa\\'s tour of India, Kohli became the fastest batsman in the world to make 1,000 runs in T20I cricket, reaching the milestone in his 27th innings.[210] In the ODI series, he made 77 at Rajkot and a match-winning 138 in the fourth ODI at Chennai that helped India draw level in the series.[211] India lost the series after a defeat in the final ODI and Kohli finished the series with an average of 49.[212] India came back to beat the top-ranked South African team 3–0 in the four-match Test series under Kohli\\'s captaincy, and climbed to number two position on the ICC Test rankings.[213] He scored a total of 200 runs in the series at 33.33, including 44 and 88 in the fourth match at Delhi.[94]\\n\\nNo. 1 Test team and limited-overs captaincy\\n\\nKohli started 2016 with scores of 91 and 59 in the first two ODIs of the limited-overs tour of Australia. He followed it up with a pair of hundreds–a run-a-ball 117 at Melbourne and 106 from 92 balls at Canberra–in the next two matches. During the course of the series, he became the fastest batsman in the world to cross the 7000-run mark in ODIs, getting to the milestone in his 161st innings, and the fastest to get to 25 centuries. After the ODI series ended in a 1–4 loss, the Indian team came back to whitewash the Australians 3–0 in the T20I series. Kohli made fifties in all three T20Is with scores of 90 not out,[214] 59 not out[215] and 50, winning two man of the matches as well as the man of the series award.[216] He was also instrumental in India winning the Asia Cup in Bangladesh the following month in which he scored 49 in a run-chase of 84 against Pakistan,[217] followed by an unbeaten 56 against Sri Lanka and 41 not out in the Final against Bangladesh in two more successful chases.[218]\\n\\nKohli maintained his match-winning form in the 2016 ICC World Twenty20 in India, scoring 55 not out in another successful run-chase against Pakistan.[219] He struck an unbeaten 82 from 51 balls in India\\'s must-win group match against Australia in \"an innings of sheer class\" with \"clean cricket shots\".[220][221] The knock helped India win by six wickets and register a spot in the semi-final; Kohli went on to rate the innings as his best in the format.[222] In the semi-final, Kohli top-scored once again with an unbeaten 89 from 47 deliveries, but West Indies overhauled India\\'s total of 192 and ended India\\'s campaign. His total of 273 runs in five matches at an average of 136.50 earned him his second consecutive Man of the Tournament award at the World Twenty20.[223] He was named as captain of the \\'Team of the Tournament\\' for the 2016 World Twenty20 by the ICC.[224]\\n\\nPlaying his first Test in the West Indies since his debut series, Kohli scored 200 in the first Test at Antigua to ensure an innings-and-92-run win for India, their biggest win ever outside of Asia. It was his first double hundred in first-class cricket and the first made away from home by an Indian captain in Tests.[225] India went on to wrap the series 2–0 and briefly top the ICC Test Rankings before being displaced by Pakistan at the position. He scored another double hundred–211 at Indore in the third Test against New Zealand–as India\\'s 3–0 whitewash victory saw them regain the top position in the ICC Test Rankings.[226] In the subsequent ODI series, Kohli set up two wins for India batting second with unbeaten knocks of 85 at Dharamsala and 134-ball 154 at Mohali.[227] He then made 65 in the series-deciding fifth game at Visakhapatnam which India won.\\n\\nKohli got double centuries in the next two Test series against England and Bangladesh, making him the first batsman ever to score double centuries in four consecutive series. He broke the record of Australian great Donald Bradman and fellow Indian Rahul Dravid, both of whom had managed to get three. Against England, he got his then-highest Test score of 235.[228]\\n\\n2017 ICC Champions Trophy\\n\\nVirat Kohli got the chance to captain in an ICC tournament for the first time in the 2017 ICC Champions Trophy. In the semi-final against Bangladesh, Kohli scored 96*, thus becoming the fastest batsman, in terms of innings, to reach 8,000 runs in ODIs in 175 innings.[229] In the captaincy of Virat Kohli, the Indian cricket team reached the final, but lost to Pakistan by 180 runs. In the third over of Indian innings, Virat Kohli was dropped in the slips for just five runs but caught the next ball by Shadab Khan at point on the bowling of Mohammad Amir.[230] He was also named as part of the \\'Team of the Tournament\\' at the 2017 Champions Trophy by the ICC.[231]\\n\\n10,000 runs in ODIs before age of 30\\n\\nHe followed it up with ODI centuries against the West Indies and Sri Lanka in consecutive series, equalling Ricky Ponting\\'s tally of 30 ODI centuries.[232][233][234] In October 2017, he was adjourned the ODI player of the series against New Zealand for scoring two ODI centuries, during the course of which he made a new record for the most runs (8,888), best average (55.55) and highest number of centuries (31) for any batsman when completing 200 ODIs.[235][236] Kohli made several more records during the 3 match Test series against Sri Lanka at home in November. After scoring a century and a double century in the first two Tests, he ended up scoring yet another double century in the third Test, during which he became the eleventh Indian batsman to surpass 5000 runs in Test cricket while scoring his 20th Test century and 6th double century.[237] During this match he also became the first batsman to score six double hundreds as a captain.[238] With 610 runs in the series, Kohli also became the highest run-scorer by an Indian in a three-match Test series and the fourth-highest overall.[239] India comfortably won the three-match series 1–0 and Kohli was adjudged man of the match for the second and third Test matches and player of the series. With this win, India equalled Australia for the record streak of nine consecutive series wins in Test cricket.[240] He ended the year with 2818 international runs, which is recorded as the third-highest tally ever in a calendar year and the highest tally ever by an Indian player.[239] The ICC named Kohli as captain of both their World Test XI and ODI XI for 2017.[241]\\n\\nOverseas season-including Windies at home\\n\\nKohli fielding in a Test match against England at Trent Bridge in 2018\\n\\nKohli fared average in the Test matches as India lost 1–2 during the South Africa tour in 2018, but came back strongly to score 558 runs in the 6 ODIs, making a record for the highest runs scored in a bilateral ODI series.[242] This included three centuries, remaining unbeaten in two with a best of 160*.[243] India won the ODI series 5–1, Kohli becoming the first Indian captain to win an ODI series in South Africa.[244]\\n\\nIn March 2018, Kohli decided to play county cricket in England in June, in order to improve his batting before the start of India\\'s tour to England the following month.[245][246] He signed to play for Surrey, but a neck injury ruled him out of his stint in England before it even began.[247] On 2 August, Kohli scored his first Test century on English soil in the first test match of the series against England.[248] On 5 August, Kohli displaced Steve Smith to become the No. 1 ranked Test batsman in the ICC Test rankings. He also became the seventh Indian batsman and first since Sachin Tendulkar in June 2011 to achieve this feat.[249] In the third test at Trent Bridge, Nottingham, Kohli scored 97 and 103, and helped India win by 203 runs.[250] At the end of 5-match test series, Kohli scored 593 runs, which was third highest runs by an Indian batsman in a losing test series.\\n\\nDuring ODI series against West Indies in 2018, Kohli became the 12th batsman and fastest player to score 10,000 ODI runs.[251] He surpassed the milestone with 205 innings which is 54 innings less than the next quickest to the landmark, Sachin Tendulkar.[252] In the course he scored his 37th ODI century. Kohli\\'s average after crossing 10,000 is 59.62, which is also the best average among the 10,000 club members.[253] On 27 October, after scoring his 38th ODI century, Kohli became the first batsman for India, first captain and tenth overall, to score three successive centuries in ODIs.[254] He ended up scoring 453 runs in 5 innings, at an average of 151.00, in the 5-match series and was the Player of the Series.[255]\\n\\nOn 16 December 2018 in the 2018-2019 Border Gavaskar Trophy, Kohli scored his 25th test hundred in Perth.[256] His knock of 123 was his 6th hundred in three tours to Australia making him the only Indian to score 6 test hundreds in Australia after Sachin Tendulkar. He also became the fastest Indian and second fastest overall to score 25 test hundreds, second only to Sir Don Bradman. Although he broke several records in the game, his innings proved to insufficient as India went down by 146 runs as Australia levelled the series with two tests remaining.[257][258] He had scored 82 in the third test at MCG, in which India won. Overall. he had finished the series with 282 runs at an average of 40.[259] By winning the test series in Australia, he had become the first Indian and also the first Asian skipper to win a test series in Australia. He was again named as captain of both the World Test XI and ODI XI for 2018 by the ICC.[260]\\n\\n2019 Cricket World Cup and the World Test Championship\\n\\nIn April 2019, he was named the captain of India\\'s squad for the 2019 Cricket World Cup.[261][262] On 16 June 2019, in India\\'s match against Pakistan, Kohli became the fastest batsman, in terms of innings, to score 11,000 runs in ODI cricket. He reached the landmark in his 222nd innings.[263] Eleven days later, in the match against the West Indies, Kohli became the fastest cricketer, in terms of innings, to score 20,000 runs in international cricket, doing so in his 417th innings.[264] Kohli scored five consecutive fifty plus score in the tournament. India lost the semi-final against New Zealand, in which Kohli was out for just a run.\\n\\nIn October 2019, Kohli captained India for the 50th time in Test cricket, in the second Test against South Africa.[265] In the first innings of the match, Kohli scored an unbeaten 254 runs, passing 7,000 runs in Tests in the process, and became the first batsman for India to score seven double centuries in Test cricket.[266][267] In November 2019, during the day/night Test match against Bangladesh, Kohli became the fastest captain to score 5,000 runs in Test cricket, doing so in his 86th innings.[268] In the same match, he also scored his 70th century in international cricket.[269]\\n\\nIndian Premier League\\n\\nKohli at the 2015 IPL opening ceremony\\n\\nIn March 2008, Kohli was bought on a youth contract by the Indian Premier League franchise Royal Challengers Bangalore for $30,000. He had an indifferent 2008 season, with a total of 165 runs in 12 innings at an average of 15.00 and a strike rate of 105.09.[270] He fared slightly better in the second season in which he made a total of 246 runs at 22.36, striking at over 112, while his team made it as far as the final.[271] In the 2010 season, Kohli was the third highest run-getter for his team with 307 runs, averaging 27.90 and improving his strike rate to 144.81.[272]\\n\\nAhead of the 2011 season, Kohli was the only player retained by the Royal Challengers franchise. Kohli was made vice-captain of the team that year and also captained the team in a few matches when the regular skipper Daniel Vettori was injured. The Royal Challengers coach Ray Jennings opined that the 22-year-old would become the future captain of not only the franchise but also the Indian team.[273] Kohli was the second-highest run-getter of the season, only behind teammate Chris Gayle, and his team finished as runners-up of the IPL. Kohli accumulated a total of 557 runs at an average of 46.41 and a strike rate of over 121 including four fifties.[274] In the 2012 IPL, he was moderately successful, averaging 28 for his 364 runs.[275]\\n\\nAfter Vettori\\'s retirement, Kohli was appointed as the team\\'s captain for the 2013 season. The Royal Challengers finished fifth on the league table that year, but Kohli found success with the bat. Averaging 45.28, he hit a total of 634 runs at a strike rate of over 138 including six fifties and a top-score of 99 and finished as the season\\'s third-highest run-scorer.[276]\\n\\nBangalore finished seventh in the next season in which Kohli made 359 runs at 27.61.[277] He found success with the bat in the 2015 IPL in which he led his team to the playoffs. He finished fifth on the season\\'s leading run-getters list with 505 runs at an average of 45.90 and a strike rate of more than 130.[278]\\n\\nAt the 2016 IPL, the Royal Challengers finished runners-up and Kohli broke the record for most runs in an IPL season (of 733 runs) by scoring 973 runs in 16 matches at an average of 81.08, winning the Orange Cap.[279] He scored four centuries in the tournament, having never scored one in the Twenty20 format before the start of the season, and also became the first player to reach the 4000-run milestone in the IPL.[280] At the launch event of his biography, \\'Driven: The Virat Kohli Story\\' in New Delhi, in October 2016, Kohli announced that RCB would be the IPL franchise that he would permanently play for.[281]\\n\\nKohli missed the start of the 2017 season due to a shoulder injury. Moreover, RCB finished the tournament at the bottom of the table, with Kohli scoring the most runs for his team, with 308 from 10 matches.\\n\\nOn the occasion of the 10 year anniversary of IPL, he was also named in the all-time Cricinfo IPL XI.[282]\\n\\nIn the 2018 season, Kohli was retained by RCB for a price of ₹170 million (US$2.4 million), the highest for any player that year.[283]\\n\\nOn 28 March 2019, he became the second player to reach 5000 IPL runs after Suresh Raina.[284]\\n\\nPlaying style\\n\\nKohli playing the flick shot during the 2015 World Cup\\n\\nKohli is a naturally aggressive batsman[37] with strong technical skills.[285] He usually bats at the no.3 position in ODI cricket.[286] He bats with a slightly open-chested stance[287][288] and a strong bottom-hand grip,[289][290] and is said to have quick footwork.[291] He is known for his wide range of shots, ability to pace an innings and batting under pressure.[292][293][294] He is strong through the mid-wicket and cover region.[295] He has said that the cover drive is his favourite shot, while also saying that the flick shot comes naturally to him.[19] He does not play the sweep shot often, being called \"not a natural sweeper of the cricket ball\".[296] His teammates have praised his confidence, commitment, focus and work ethics.[297][298][299] Kohli is also known to be a \"sharp\" fielder.[300][301]\\n\\n\"He is a consummate surgeon at the crease, intensely focused, working hard, playing the ball into gaps in the field and staying calm under pressure. He is always judging the right time to consolidate and the right time to seize a game by the scruff of the neck.\" — Former South Africa captain AB de Villiers on Kohli[302]\\n\\nKohli is regarded as the best limited-overs batsmen in the world, especially while chasing.[303][304] In ODIs, he averages around 69 in matches batting second as opposed to around 51 batting first.[305] 26 of his 43 ODI hundreds have come in run-chases and he holds the record for most hundreds batting second.[306] Regarding his impressive record batting second, Kohli has said \"I love the whole situation that comes with chasing. I like the challenge of testing myself, figuring out how to rotate strike, when to hit a boundary.\"[19]\\n\\nKohli is often compared to Sachin Tendulkar, due to their similar styles of batting, and sometimes referred to as Tendulkar\\'s \"successor\".[161][170] Many former cricketers expect Kohli to break Tendulkar\\'s batting records.[307][308] Kohli has stated that growing up his idol and role model was Tendulkar and that as a kid he \"tried to copy the shots [Tendulkar] played and hit sixes the way he used to hit them.\"[309] Former West Indies great Vivian Richards, who is regarded as the most destructive batsman in cricket, stated that Kohli reminds him of himself.[145] In early 2015, Richards said Kohli was \"already legendary\" in the ODI format,[310] while former Australian cricketer Dean Jones called Kohli the \"new king of world cricket\".[311]\\n\\nKohli is noted for his on-field aggression and was described in the media as \"brash\" and \"arrogant\" during his early career.[299][312] He has got into confrontations with players and umpires on several occasions.[299][313] While many former cricketers have backed his aggressive attitude,[314][315][316] some have criticised it.[299][317] In 2012, Kohli had stated that he tries to limit his aggressive behaviour but \"the build-up and the pressure or the special occasions make it tough to control the aggression.\"[318]\\n\\nIn September 2018, West Indies legend Brian Lara, who was in New York as a part of the ICC Cricket World Cup 2019 Trophy Tour, picked Kohli as one of the best batsmen in the world, alongside England captain Joe Root.[319]\\n\\nInternational centuries\\n\\nAs of October 2019 , Kohli has scored 27 Test and 43 ODI centuries which makes him the second most successful centurion in ODI cricket after Sachin Tendulkar.[320]\\n\\nAwards\\n\\nNational honours\\n\\nOther honours\\n\\nOutside cricket\\n\\nPersonal life\\n\\nKohli and Anushka Sharma at Vogue Awards\\n\\nKohli started dating Bollywood actress Anushka Sharma in 2013; the couple soon earned the celebrity couple nickname \"Virushka\".[333][334] Their relationship attracted substantial media attention, with persistent rumours and speculations in the media, as neither of the two publicly talked about it.[335] The couple married on 11 December 2017 in a private ceremony in Florence, Italy.[336][337]\\n\\nKohli has admitted that he is superstitious. He used to wear black wristbands as a cricket superstition; earlier, he used to wear the same pair of gloves with which he had \"been scoring\". Apart from a religious black thread, he has also been wearing a kara on his right arm since 2012.[338]\\n\\nCommercial investments\\n\\nAccording to Kohli, football is his second favourite sport.[339] In 2014, Kohli became a co-owner of Indian Super League club FC Goa. He stated that he invested in the club with the \"keenness of football\" and because he \"wanted football to grow in India\".[340] He added, \"It\\'s a business venture for me for the future. Cricket\\'s not going to last forever and I\\'m keeping all my options open after retirement.\"[339]\\n\\nIn September 2015, Kohli became a co-owner of the International Premier Tennis League franchise UAE Royals,[341] and, in December that year, became a co-owner of the JSW-owned Bengaluru Yodhas franchise in Pro Wrestling League.[342]\\n\\nIn November 2014, Kohli and Anjana Reddy\\'s Universal Sportsbiz (USPL) launched a youth fashion brand WROGN. The brand started to produce men\\'s casual wear clothing in 2015 and has tied up with Myntra and Shopper\\'s Stop.[343] In late 2014, Kohli was announced as a shareholder and brand ambassador of the social networking venture \\'Sport Convo\\' based in London.\\n\\nIn 2015, Kohli invested ₹900 million (US$13 million) to start a chain of gyms and fitness centres across the country. Launched under the name Chisel, the chain of gyms is jointly owned by Kohli, Chisel India and CSE (Cornerstone Sport and Entertainment), the agency which manages Kohli\\'s commercial interests.[344] In 2016, Kohli started Stepathlon Kids, a children fitness venture, in partnership with Stepathlon Lifestyle.[345]\\n\\nEndorsements\\n\\nKohli was signed up by sports agent Bunty Sajdeh of Cornerstone Sport and Entertainment after the 2008 Under-19 World Cup. Sajdeh recalls, \"I didn’t go after them after they became stars. In fact, I watched Virat at the 2008 ICC Under-19 World Cup in Kuala Lumpur. I was mighty impressed with his attitude and the way he was marshalling his team. He had that spark. And I told Yuvi to set up the meeting.\"[346] Sajdeh manages Kohli\\'s endorsement deals, along with those of other Indian cricketers Shikhar Dhawan, Rohit Sharma and Murali Vijay. It was reported in 2013 that Kohli\\'s brand endorsements were worth over ₹1 billion (US$14 million).[347] His bat deal with MRF is said to be the costliest deal in Indian cricket history.[346] In 2017, he signed an eight-year endorsement deal with Puma worth about ₹1.1 billion (US$15 million), becoming the first Indian sportsperson to sign a ₹1 billion (US$14 million) deal with a brand.[348]\\n\\nIn 2014, American Appraisal estimated Kohli\\'s brand value at US$56.4 million placing him fourth on the list of India\\'s most valued celebrity brands.[349] The same year, UK-based magazine SportsPro rated Kohli as the second most marketable athlete in the world behind only Lewis Hamilton, placing him above the likes of Cristiano Ronaldo, Lionel Messi and Usain Bolt.[350] In an October 2016 report by Duff & Phelps on India\\'s most valued celebrity brands, Kohli\\'s brand value was estimated to be US$92 million, second only to that of Bollywood actor Shah Rukh Khan.[351]\\n\\nIn 2017, Kohli was ranked 7th in the list released by Forbes as the Most Valuable Brand among athletes, ahead of sportspeople like Lionel Messi, Rory McIlroy and Stephen Curry, with an estimated brand value of $14.5 million.[352] In 2018, Kohli was again listed 83 in the top 100 highest paid athletes in the world. In 2019, Kohli dropped 17 places to No. 100 on Forbes\\' World\\'s 100 Highest-Paid Athletes\" list, making him the only Indian and the only cricketer to feature in that list. His earnings were estimated at about $25 million, earning $21 million from endorsements and the rest from salary and winnings.[353]\\n\\nAs of September 2017, Kohli has endorsement deals with 17 brands.[354] Among the brands he endorsed in early 2018 are American Tourister, Audi, Boost, Colgate-Palmolive, Gillette, Gionee, Herbalife, MRF, Manyavar, New Era, Puma, Punjab National Bank, Tissot, Uber and Vicks.[355][356] The brands Kohli previously endorsed include 3C Company, Celkon Mobiles, Cinthol (from Godrej), Clear (from Unilever), Fair & Lovely, Fastrack (from Titan), Pepsi, Flying Machine, Mattel, Munch (from Nestle), Oakley, Red Chief Shoes, Royal Challenge (from United Breweries), Sangam Suiting and Toyota Motors.[357][358][359]\\n\\nIn March 2019, Kohli was signed up as brand ambassador of mobile esports platform Mobile Premier League.[360]\\n\\nCharity\\n\\nKohli at a VKF charity event in June 2016\\n\\nIn March 2013, Kohli started a charity foundation called Virat Kohli Foundation (VKF). The organisation aims at helping underprivileged kids and conducts events to raise funds for the charity.[361] According to Kohli, the foundation works with select NGOs to \"create awareness, seek support and raise funds for the various causes they endorse and the philanthropic work they engage in.\"[362] In May 2014, eBay and Save the Children India conducted a charity auction with VKF, with its proceeds benefiting the education and healthcare of underprivileged children.[363]\\n\\nKohli has captained the All Heart Football Club, owned by VKF, in charity football matches against All Stars Football Club, owned by Abhishek Bachchan\\'s Playing for Humanity. The matches, known as \"Celebrity Clasico\", feature cricketers playing for All Heart and Bollywood actors in the All Stars team, and are organized to generate funds for the two charity foundations.[364]\\n\\nSee also\\n\\nReferences\\n\\nBibliography'"
            ]
          },
          "metadata": {
            "tags": []
          },
          "execution_count": 62
        }
      ]
    },
    {
      "cell_type": "code",
      "metadata": {
        "id": "7CTo5p9ek7zi",
        "colab_type": "code",
        "colab": {}
      },
      "source": [
        "myobj = gTTS(mytext[:500])"
      ],
      "execution_count": 0,
      "outputs": []
    },
    {
      "cell_type": "code",
      "metadata": {
        "id": "QXkGZeVMlJfO",
        "colab_type": "code",
        "colab": {}
      },
      "source": [
        "myobj.save(\"virat.mp3\")"
      ],
      "execution_count": 0,
      "outputs": []
    },
    {
      "cell_type": "code",
      "metadata": {
        "id": "o_IjY5RAlNin",
        "colab_type": "code",
        "colab": {}
      },
      "source": [
        ""
      ],
      "execution_count": 0,
      "outputs": []
    }
  ]
}